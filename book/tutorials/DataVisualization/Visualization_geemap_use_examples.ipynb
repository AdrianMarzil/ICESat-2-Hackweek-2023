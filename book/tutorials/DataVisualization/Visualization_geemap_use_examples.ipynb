{
 "cells": [
  {
   "cell_type": "markdown",
   "id": "0af403df-5561-4707-b830-7dda35039b6e",
   "metadata": {},
   "source": [
    "# OpenAltimery and GEE Use Examples \n",
    "For the functions shown in the Google Earth Engine tutorial. "
   ]
  },
  {
   "cell_type": "code",
   "execution_count": null,
   "id": "cb79955f-b1ea-466f-b7df-31c15fb81f80",
   "metadata": {},
   "outputs": [],
   "source": [
    "from utils.oa import dataCollector"
   ]
  },
  {
   "cell_type": "markdown",
   "id": "8d7ee0d9-68b7-4490-85da-fd2577812368",
   "metadata": {},
   "source": [
    "If needed, uncomment below to authenticate Earth Engine."
   ]
  },
  {
   "cell_type": "code",
   "execution_count": null,
   "id": "d39d3cb9-fdfd-4d27-ac86-d842f1454f7f",
   "metadata": {},
   "outputs": [],
   "source": [
    "# ee.Authenticate()"
   ]
  },
  {
   "cell_type": "markdown",
   "id": "3099da85-4218-40ac-837c-29cd7dfba914",
   "metadata": {},
   "source": [
    "## Example data from tutorial: melt lake on Nivlisen Ice Shelf\n",
    "### Input data "
   ]
  },
  {
   "cell_type": "code",
   "execution_count": null,
   "id": "66e43347-3dec-4cbd-9299-951f085ea712",
   "metadata": {},
   "outputs": [],
   "source": [
    "url = 'http://openaltimetry.org/data/api/icesat2/atl03?date=2020-01-16&minx=12.107692195781404&miny=-70.34956862465471&maxx=12.426364789894341&maxy=-70.2449105354736&trackId=312&beamName=gt3r&beamName=gt3l&beamName=gt2r&beamName=gt2l&beamName=gt1r&beamName=gt1l&outputFormat=json'\n",
    "gtx = 'gt2r'\n",
    "\n",
    "# initialize the dataCollector\n",
    "myData = dataCollector(oaurl=url, beam=gtx)"
   ]
  },
  {
   "cell_type": "markdown",
   "id": "6c2ba9a0-01a9-4f38-b55a-258fa4466016",
   "metadata": {},
   "source": [
    "### Use geemap to find a satellite image \n",
    "(Note: `days_buffer=60` her because ICESat-2 passed over in the winter, when it's completely dark in Antarctica...)"
   ]
  },
  {
   "cell_type": "code",
   "execution_count": null,
   "id": "5dc5e1eb-af4b-4059-bead-8c8fe051f26e",
   "metadata": {},
   "outputs": [],
   "source": [
    "# myData.makeGEEmap()"
   ]
  },
  {
   "cell_type": "markdown",
   "id": "625b1df0-b08c-4c34-af38-48ca94d5a7f5",
   "metadata": {},
   "source": [
    "### Download and plot\n",
    "Here we use `crs='EPSG:3031'` (WGS 84 / Antarctic Polar Stereographic) because we know we're in Antarctica. This would default to `crs='EPSG:3857'` (Web Mercator) if we don't specify it."
   ]
  },
  {
   "cell_type": "code",
   "execution_count": null,
   "id": "68018849-b2bd-408d-8823-382b8bd8ec2b",
   "metadata": {},
   "outputs": [],
   "source": [
    "scene_id='LANDSAT/LC08/C01/T2/LC08_165110_20200114'\n",
    "fig = myData.plotDataAndMap(scene_id, crs='EPSG:3031', title='ICESat-2 data over an ice-covered lake (Nivlisen Ice Shelf)')"
   ]
  },
  {
   "cell_type": "markdown",
   "id": "9e149a10-eb69-475a-89c7-0dfac7b10dbb",
   "metadata": {},
   "source": [
    "## Nearshore Bathymetry\n",
    "### Input data "
   ]
  },
  {
   "cell_type": "code",
   "execution_count": null,
   "id": "bcf90459-b5e0-4b54-9785-8d3b635954ca",
   "metadata": {},
   "outputs": [],
   "source": [
    "url = 'http://openaltimetry.org/data/api/icesat2/atl12?date=2020-12-15&minx=-77.858681&miny=25.728091&maxx=-77.831461&maxy=25.832559&trackId=1254&beamName=gt1r&beamName=gt1l&outputFormat=json'\n",
    "gtx = 'gt1r'\n",
    "\n",
    "# initialize the dataCollector\n",
    "myData = dataCollector(oaurl=url, beam=gtx)"
   ]
  },
  {
   "cell_type": "markdown",
   "id": "4998f378-8608-4e7f-9ae0-a537fe0d8d42",
   "metadata": {},
   "source": [
    "### Use geemap to find a satellite image"
   ]
  },
  {
   "cell_type": "code",
   "execution_count": null,
   "id": "39e2e5af-469f-42a1-bf91-f95a02014c38",
   "metadata": {},
   "outputs": [],
   "source": [
    "# myData.makeGEEmap()"
   ]
  },
  {
   "cell_type": "markdown",
   "id": "e8e7e97d-6a7c-452f-af72-c1ea2a118bcd",
   "metadata": {},
   "source": [
    "### Download and plot"
   ]
  },
  {
   "cell_type": "code",
   "execution_count": null,
   "id": "f51245c2-f16f-4472-8279-910d0b6cad4e",
   "metadata": {},
   "outputs": [],
   "source": [
    "scene_id='COPERNICUS/S2_SR/20201213T155521_20201213T155522_T17RRJ'\n",
    "fig = myData.plotDataAndMap(scene_id, title='ICESat-2 data over nearshore bathymetry')"
   ]
  },
  {
   "cell_type": "markdown",
   "id": "c20e88cf-b38c-43fc-b685-4a22755dea52",
   "metadata": {},
   "source": [
    "## Half Dome\n",
    "### Input data "
   ]
  },
  {
   "cell_type": "code",
   "execution_count": null,
   "id": "77d13e26-115b-45f0-ba65-4f53ede8e120",
   "metadata": {},
   "outputs": [],
   "source": [
    "url = 'http://openaltimetry.org/data/api/icesat2/atl06?date=2021-01-10&minx=-119.587886&miny=37.730067&maxx=-119.488871&maxy=37.775582&trackId=265&beamName=gt3r&beamName=gt3l&beamName=gt2r&beamName=gt2l&beamName=gt1r&beamName=gt1l&outputFormat=json'\n",
    "gtx = 'gt2l'\n",
    "\n",
    "# initialize the dataCollector\n",
    "myData = dataCollector(oaurl=url, beam=gtx)"
   ]
  },
  {
   "cell_type": "markdown",
   "id": "e27c2057-0bb9-45aa-8bd8-4529c3e215a9",
   "metadata": {},
   "source": [
    "### Use geemap to find a satellite image"
   ]
  },
  {
   "cell_type": "code",
   "execution_count": null,
   "id": "ee506c24-2d4f-428d-ace0-011d4b7d5890",
   "metadata": {},
   "outputs": [],
   "source": [
    "# myData.makeGEEmap()"
   ]
  },
  {
   "cell_type": "markdown",
   "id": "d83452bb-7583-4a78-a080-dd493e6d0671",
   "metadata": {},
   "source": [
    "### Download and plot"
   ]
  },
  {
   "cell_type": "code",
   "execution_count": null,
   "id": "b64c120a-e525-44c7-908e-d3c3489d2ee6",
   "metadata": {},
   "outputs": [],
   "source": [
    "scene_id='COPERNICUS/S2_SR/20210111T184739_20210111T184945_T10SGG'\n",
    "fig = myData.plotDataAndMap(scene_id, title='ICESat-2 data over Half Dome')"
   ]
  },
  {
   "cell_type": "markdown",
   "id": "4f07f781-6044-4989-bfb4-27dc82783fb5",
   "metadata": {},
   "source": [
    "## Ice Shelf Rift\n",
    "### Input data "
   ]
  },
  {
   "cell_type": "code",
   "execution_count": null,
   "id": "29ca005d-206e-4d99-93d8-a2e387d7bde3",
   "metadata": {},
   "outputs": [],
   "source": [
    "url = 'http://openaltimetry.org/data/api/icesat2/atl06?date=2020-01-26&minx=99.85237589431291&miny=-66.35086607273658&maxx=100.0381369994367&maxy=-66.19796463586664&trackId=476&beamName=gt3r&beamName=gt3l&beamName=gt2r&beamName=gt2l&outputFormat=json'\n",
    "gtx = 'gt3r'\n",
    "\n",
    "# initialize the dataCollector\n",
    "myData = dataCollector(oaurl=url, beam=gtx)"
   ]
  },
  {
   "cell_type": "markdown",
   "id": "281b4f6e-dffb-4fce-8629-c85d461289d4",
   "metadata": {},
   "source": [
    "### Use geemap to find a satellite image"
   ]
  },
  {
   "cell_type": "code",
   "execution_count": null,
   "id": "38e92cf7-bb75-42c2-9c2f-f30ef9cbde9f",
   "metadata": {},
   "outputs": [],
   "source": [
    "# myData.makeGEEmap()"
   ]
  },
  {
   "cell_type": "markdown",
   "id": "83fbb216-2a9c-4a10-952b-9655115b4b05",
   "metadata": {},
   "source": [
    "### Download and plot"
   ]
  },
  {
   "cell_type": "code",
   "execution_count": null,
   "id": "1c9ee19c-0f10-4236-9e60-c1bdc8607c6b",
   "metadata": {},
   "outputs": [],
   "source": [
    "scene_id='LANDSAT/LC08/C01/T2/LC08_112107_20200127'\n",
    "fig = myData.plotDataAndMap(scene_id, crs='EPSG:3031', title='ICESat-2 data over a Rift in Shackleton Ice Shelf')"
   ]
  },
  {
   "cell_type": "markdown",
   "id": "d84c497e-152a-4380-ad39-751831e1ec9e",
   "metadata": {},
   "source": [
    "## Melt Lake in Greenland\n",
    "### Let's do this all at once "
   ]
  },
  {
   "cell_type": "code",
   "execution_count": null,
   "id": "e988d78c-5a65-4831-a540-08a015b50661",
   "metadata": {},
   "outputs": [],
   "source": [
    "url = 'http://openaltimetry.org/data/api/icesat2/atl08?date=2019-08-22&minx=-22.184563606833546&miny=79.06859700015742&maxx=-21.876748966627616&maxy=79.1380278178076&trackId=848&beamName=gt3r&beamName=gt3l&beamName=gt2r&beamName=gt2l&outputFormat=json'\n",
    "gtx = 'gt3l'\n",
    "myData = dataCollector(oaurl=url, beam=gtx)\n",
    "# myData.makeGEEmap()"
   ]
  },
  {
   "cell_type": "code",
   "execution_count": null,
   "id": "6a105853-cc02-4800-b02e-e624796f2cc7",
   "metadata": {},
   "outputs": [],
   "source": [
    "scene_id='COPERNICUS/S2_SR/20190823T152819_20190823T152813_T27XVH'\n",
    "fig = myData.plotDataAndMap(scene_id, crs='EPSG:3995', title='ICESat-2 data over a Greenland melt lake')"
   ]
  },
  {
   "cell_type": "markdown",
   "id": "219a1ceb-01e3-4123-b5e5-00f22e5ab4e1",
   "metadata": {},
   "source": [
    "## Ice-Covered Lake on Ice Shelf\n",
    "(Note: we use `days_buffer=60` her because ICESat-2 passed over in the winter, when it's completely dark in Antarctica...)"
   ]
  },
  {
   "cell_type": "code",
   "execution_count": null,
   "id": "099393ab-1b36-4d6c-9ead-8b4a7eb50813",
   "metadata": {},
   "outputs": [],
   "source": [
    "url = 'http://openaltimetry.org/data/api/icesat2/atl06?date=2019-05-15&minx=71.42728712317059&miny=-71.35245299984994&maxx=71.58501878594811&maxy=-71.26628346466289&trackId=721&beamName=gt3r&beamName=gt3l&beamName=gt2r&beamName=gt2l&outputFormat=json'\n",
    "track = 721\n",
    "gtx = 'gt3r'\n",
    "latlims = [-71.35, -71.26]\n",
    "lonlims = [71.41, 71.59]\n",
    "myData = dataCollector(date='2019-05-15', track=track, beam=gtx, latlims=latlims, lonlims=lonlims)\n",
    "# myData.makeGEEmap()"
   ]
  },
  {
   "cell_type": "code",
   "execution_count": null,
   "id": "be28ae56-ca53-42ef-a7af-797a721412d1",
   "metadata": {},
   "outputs": [],
   "source": [
    "scene_id='LANDSAT/LC08/C01/T2/LC08_127110_20190322'\n",
    "fig = myData.plotDataAndMap(scene_id, crs='EPSG:3031', title='ICESat-2 data over an ice-covered lake')"
   ]
  },
  {
   "cell_type": "markdown",
   "id": "39431c47-9b87-44cc-8529-68394662399a",
   "metadata": {},
   "source": [
    "### Change the date only"
   ]
  },
  {
   "cell_type": "code",
   "execution_count": null,
   "id": "5ed90993-7228-4e56-8b5b-5d4bb7d27c85",
   "metadata": {},
   "outputs": [],
   "source": [
    "myData = dataCollector(date='2019-11-13', track=track, beam=gtx, latlims=latlims, lonlims=lonlims)\n",
    "# myData.makeGEEmap()"
   ]
  },
  {
   "cell_type": "markdown",
   "id": "362a511b-9940-40c2-bb44-a9db3cee5e8c",
   "metadata": {},
   "source": [
    "### Where's the lake now?"
   ]
  },
  {
   "cell_type": "code",
   "execution_count": null,
   "id": "f6a10b38-2ddd-4f25-be00-cca9317ba6c1",
   "metadata": {},
   "outputs": [],
   "source": [
    "scene_id='COPERNICUS/S2_SR/20191119T034629_20191119T034625_T42DWF'\n",
    "fig = myData.plotDataAndMap(scene_id, crs='EPSG:3031', title='Where did the lake go?')"
   ]
  }
 ],
 "metadata": {
  "kernelspec": {
   "display_name": "Python 3 (ipykernel)",
   "language": "python",
   "name": "python3"
  },
  "language_info": {
   "codemirror_mode": {
    "name": "ipython",
    "version": 3
   },
   "file_extension": ".py",
   "mimetype": "text/x-python",
   "name": "python",
   "nbconvert_exporter": "python",
   "pygments_lexer": "ipython3",
   "version": "3.10.12"
  }
 },
 "nbformat": 4,
 "nbformat_minor": 5
}
