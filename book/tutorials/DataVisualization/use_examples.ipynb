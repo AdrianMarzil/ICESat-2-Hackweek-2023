{
 "cells": [
  {
   "cell_type": "markdown",
   "id": "0af403df-5561-4707-b830-7dda35039b6e",
   "metadata": {
    "user_expressions": []
   },
   "source": [
    "# OpenAltimery and Earth Engine Use Examples \n",
    "For the functions shown in the Google Earth Engine tutorial. "
   ]
  },
  {
   "cell_type": "code",
   "execution_count": null,
   "id": "cb79955f-b1ea-466f-b7df-31c15fb81f80",
   "metadata": {},
   "outputs": [],
   "source": [
    "from utils.oa import dataCollector"
   ]
  },
  {
   "cell_type": "markdown",
   "id": "8d7ee0d9-68b7-4490-85da-fd2577812368",
   "metadata": {
    "user_expressions": []
   },
   "source": [
    "If needed, uncomment below to authenticate Earth Engine."
   ]
  },
  {
   "cell_type": "code",
   "execution_count": null,
   "id": "d39d3cb9-fdfd-4d27-ac86-d842f1454f7f",
   "metadata": {},
   "outputs": [],
   "source": [
    "# ee.Authenticate()"
   ]
  },
  {
   "cell_type": "markdown",
   "id": "3099da85-4218-40ac-837c-29cd7dfba914",
   "metadata": {
    "user_expressions": []
   },
   "source": [
    "## Example data from tutorial: melt lake in Greenland"
   ]
  },
  {
   "cell_type": "code",
   "execution_count": null,
   "id": "66e43347-3dec-4cbd-9299-951f085ea712",
   "metadata": {},
   "outputs": [],
   "source": [
    "url = 'http://openaltimetry.org/data/api/icesat2/atl03?date=2021-08-22&minx=-23.989069717620517&miny=77.53261687779506&maxx=-23.950348700496775&maxy=77.57222464044443&trackId=909&beamName=gt1r&beamName=gt1l&outputFormat=json'\n",
    "is2data = dataCollector(oaurl=url,beam='gt1r')\n",
    "fig = is2data.visualize_sentinel2(max_cloud_prob=5, title='supraglacial melt lake in Greenland')"
   ]
  },
  {
   "cell_type": "markdown",
   "id": "9e149a10-eb69-475a-89c7-0dfac7b10dbb",
   "metadata": {
    "user_expressions": []
   },
   "source": [
    "## Nearshore Bathymetry\n",
    "### Input data "
   ]
  },
  {
   "cell_type": "code",
   "execution_count": null,
   "id": "bcf90459-b5e0-4b54-9785-8d3b635954ca",
   "metadata": {},
   "outputs": [],
   "source": [
    "url = 'http://openaltimetry.org/data/api/icesat2/atl12?date=2020-12-15&minx=-77.858681&miny=25.728091&maxx=-77.831461&maxy=25.832559&trackId=1254&beamName=gt1r&beamName=gt1l&outputFormat=json'\n",
    "is2data = dataCollector(oaurl=url, beam='gt1r')\n",
    "fig = is2data.visualize_sentinel2(title='Nearshore Bathymetry')"
   ]
  },
  {
   "cell_type": "markdown",
   "id": "c20e88cf-b38c-43fc-b685-4a22755dea52",
   "metadata": {
    "user_expressions": []
   },
   "source": [
    "## Half Dome"
   ]
  },
  {
   "cell_type": "code",
   "execution_count": null,
   "id": "77d13e26-115b-45f0-ba65-4f53ede8e120",
   "metadata": {},
   "outputs": [],
   "source": [
    "url = 'http://openaltimetry.org/data/api/icesat2/atl06?date=2021-01-10&minx=-119.587886&miny=37.730067&maxx=-119.488871&maxy=37.775582&trackId=265&beamName=gt3r&beamName=gt3l&beamName=gt2r&beamName=gt2l&beamName=gt1r&beamName=gt1l&outputFormat=json'\n",
    "is2data = dataCollector(oaurl=url, beam='gt2l')\n",
    "fig = is2data.visualize_sentinel2(title='Half Dome')"
   ]
  },
  {
   "cell_type": "markdown",
   "id": "489b8c15-d92c-406c-8e81-4ebd531055ef",
   "metadata": {
    "user_expressions": []
   },
   "source": [
    "## Sea Ice"
   ]
  },
  {
   "cell_type": "code",
   "execution_count": null,
   "id": "ecb1e434-cb5b-48bb-9d46-a37d0730e52f",
   "metadata": {
    "tags": []
   },
   "outputs": [],
   "source": [
    "url = 'http://openaltimetry.org/data/api/icesat2/atl08?date=2022-08-15&minx=-13.254052238113646&miny=81.88762219346533&maxx=-12.627060835100693&maxy=81.9764994455186&trackId=839&beamName=gt2r&beamName=gt2l&beamName=gt1r&beamName=gt1l&outputFormat=json'\n",
    "is2data = dataCollector(oaurl=url, beam='gt1l')\n",
    "fig = is2data.visualize_sentinel2(title='Sea Ice')"
   ]
  },
  {
   "cell_type": "markdown",
   "id": "4f07f781-6044-4989-bfb4-27dc82783fb5",
   "metadata": {
    "user_expressions": []
   },
   "source": [
    "## Ice Shelf Rift\n",
    "### Input data "
   ]
  },
  {
   "cell_type": "code",
   "execution_count": null,
   "id": "29ca005d-206e-4d99-93d8-a2e387d7bde3",
   "metadata": {},
   "outputs": [],
   "source": [
    "url = 'http://openaltimetry.org/data/api/icesat2/atl06?date=2020-01-26&minx=99.85237589431291&miny=-66.35086607273658&maxx=100.0381369994367&maxy=-66.19796463586664&trackId=476&beamName=gt3r&beamName=gt3l&beamName=gt2r&beamName=gt2l&outputFormat=json'\n",
    "is2data = dataCollector(oaurl=url, beam='gt3r')\n",
    "fig = is2data.visualize_sentinel2(title='Ice Shelf Rift')"
   ]
  },
  {
   "cell_type": "markdown",
   "id": "219a1ceb-01e3-4123-b5e5-00f22e5ab4e1",
   "metadata": {
    "user_expressions": []
   },
   "source": [
    "## Ice-Covered Lake on Ice Shelf"
   ]
  },
  {
   "cell_type": "code",
   "execution_count": null,
   "id": "099393ab-1b36-4d6c-9ead-8b4a7eb50813",
   "metadata": {},
   "outputs": [],
   "source": [
    "track = 721\n",
    "gtx = 'gt3r'\n",
    "latlims = [-71.35, -71.26]\n",
    "lonlims = [71.41, 71.59]\n",
    "is2data = dataCollector(date='2019-05-15', track=track, beam=gtx, latlims=latlims, lonlims=lonlims)\n",
    "fig = is2data.visualize_sentinel2(max_cloud_prob=5, title='Ice-Covered Lake on Ice Shelf')"
   ]
  },
  {
   "cell_type": "markdown",
   "id": "39431c47-9b87-44cc-8529-68394662399a",
   "metadata": {
    "user_expressions": []
   },
   "source": [
    "### Change the date only"
   ]
  },
  {
   "cell_type": "code",
   "execution_count": null,
   "id": "5ed90993-7228-4e56-8b5b-5d4bb7d27c85",
   "metadata": {},
   "outputs": [],
   "source": [
    "is2data = dataCollector(date='2021-05-11', track=track, beam=gtx, latlims=latlims, lonlims=lonlims)\n",
    "fig = is2data.visualize_sentinel2(max_cloud_prob=20, title='Where did the lake go?')"
   ]
  }
 ],
 "metadata": {
  "kernelspec": {
   "display_name": "Python 3 (ipykernel)",
   "language": "python",
   "name": "python3"
  },
  "language_info": {
   "codemirror_mode": {
    "name": "ipython",
    "version": 3
   },
   "file_extension": ".py",
   "mimetype": "text/x-python",
   "name": "python",
   "nbconvert_exporter": "python",
   "pygments_lexer": "ipython3",
   "version": "3.10.12"
  }
 },
 "nbformat": 4,
 "nbformat_minor": 5
}
