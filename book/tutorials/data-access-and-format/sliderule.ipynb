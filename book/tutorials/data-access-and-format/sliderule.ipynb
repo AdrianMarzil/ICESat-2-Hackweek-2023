{
 "cells": [
  {
   "cell_type": "markdown",
   "id": "3e83a915-2131-4c31-ba4f-25ccbcbd947f",
   "metadata": {},
   "source": [
    "# Overview of **SlideRule** Functionality"
   ]
  },
  {
   "cell_type": "markdown",
   "id": "e0e0e989-71c6-4288-bd38-65386c9ec9d7",
   "metadata": {
    "tags": []
   },
   "source": [
    "[SlideRule](https://slideruleearth.io/web/) is a web service that provides on-demand customized data products.  The primary way of accessing SlideRule is through its Python client.\n",
    "\n",
    "```{admonition} Quick links for the event\n",
    "* SlideRule Documentation: https://slideruleearth.io/web/\n",
    "* SlideRule GitHub Repository: https://github.com/ICESat2-SlideRule/sliderule\n",
    "* SlideRule Python Examples GitHub Repository: https://github.com/ICESat2-SlideRule/sliderule-python\n",
    "```\n",
    "\n",
    "This notebook gives an overview of the different functionality SlideRule provides.\n",
    "\n",
    "```{admonition} Learning Objectives\n",
    "* How to import and configure the SlideRule Python client\n",
    "* Survey SlideRule's core and advanced functionality\n",
    "* Where to find documentation on SlideRule's APIs\n",
    "```"
   ]
  },
  {
   "cell_type": "markdown",
   "id": "692bdcf6-29a7-4899-84fb-f22eb093c9dd",
   "metadata": {
    "tags": []
   },
   "source": [
    "## I. Import and Configure SlideRule"
   ]
  },
  {
   "cell_type": "markdown",
   "id": "7d481101-0de5-465a-9188-47f0fe42a91b",
   "metadata": {
    "tags": []
   },
   "source": [
    "The SlideRule Python client currently consists of seven primary modules.\n",
    "\n",
    "* __sliderule__ - the core module\n",
    "* __earthdata__ - functions that access CMR (NASA's Common Metadata Repository), CMR-STAC, and TNM (The National Map, for the 3DEP data hosted by USGS)\n",
    "* __h5__ - APIs for directly reading HDF5 and NetCD4 data\n",
    "* __raster__ - APIs for sampling supported raster datasets\n",
    "* __icesat2__ - APIs for processing ICESat-2 data\n",
    "* __gedi__ - APIs for processing GEDI data\n",
    "* __io__ - functions for reading and writing local files with SlideRule results\n",
    "* __ipysliderule__ - functions for building interactive Jupyter notebooks that interface to SlideRule\n",
    "\n",
    "These modules can be imported into your environment like so:"
   ]
  },
  {
   "cell_type": "code",
   "execution_count": 1,
   "id": "2275b86a-6cb3-4b60-b42a-9b11c63b9fab",
   "metadata": {
    "tags": []
   },
   "outputs": [
    {
     "name": "stderr",
     "output_type": "stream",
     "text": [
      "/srv/conda/envs/notebook/lib/python3.10/site-packages/sliderule/sliderule.py:41: UserWarning: Shapely 2.0 is installed, but because PyGEOS is also installed, GeoPandas will still use PyGEOS by default for now. To force to use and test Shapely 2.0, you have to set the environment variable USE_PYGEOS=0. You can do this before starting the Python process, or in your code before importing geopandas:\n",
      "\n",
      "import os\n",
      "os.environ['USE_PYGEOS'] = '0'\n",
      "import geopandas\n",
      "\n",
      "In a future release, GeoPandas will switch to using Shapely by default. If you are using PyGEOS directly (calling PyGEOS functions on geometries from GeoPandas), this will then stop working and you are encouraged to migrate from PyGEOS to Shapely 2.0 (https://shapely.readthedocs.io/en/latest/migration_pygeos.html).\n",
      "  import geopandas\n"
     ]
    }
   ],
   "source": [
    "from sliderule import sliderule, earthdata, h5, raster, icesat2, gedi"
   ]
  },
  {
   "cell_type": "markdown",
   "id": "3d687bf8-7af3-4a43-bdc4-948b0090ff5b",
   "metadata": {},
   "source": [
    "Once those modules are imported, the next thing you'll likely want to do is configure the client with the settings you want to use.  That is done with a call to `sliderule.init()`.  For detailed documentation on what arguments are supported by the initialization function, check out the [api reference page](https://slideruleearth.io/web/rtd/api_reference/sliderule.html#init).\n",
    "\n",
    "It is not necessary to call `sliderule.init()` in order to start using the client, since the default settings provide a working system.  Nevertheless, it is a good practice to include a call to this function early in your notebook as a placeholder for when different settings are desired.  For instance, if you want to change the verbosity of the client and enable logging to the console, you can do so as shown below."
   ]
  },
  {
   "cell_type": "code",
   "execution_count": 2,
   "id": "a7c65325-3487-4ef8-9b01-eab9095214d5",
   "metadata": {
    "tags": []
   },
   "outputs": [],
   "source": [
    "sliderule.init(verbose=True)"
   ]
  },
  {
   "cell_type": "markdown",
   "id": "53b98040-6579-4490-a39e-9a535cbb379d",
   "metadata": {
    "tags": []
   },
   "source": [
    "## II. Core Functionality\n",
    "- A. [Directly read HDF5 and NetCDF4 files](#h5p)\n",
    "- B. [Subset ATL03 photon cloud data](#atl03sp)\n",
    "- C. [Generate customized ATL06 elevations](#atl06p)\n",
    "- D. [Generate customized ATL06 elevations using ATL08 classifications](#atl08)\n",
    "- E. [Generate customized ATL08 vegetation metrics](#phoreal)\n",
    "- F. [Sample rasters at points of interest](#raster)\n",
    "- G. [Subset GEDI L1B, L2A, L4A](#gedi)"
   ]
  },
  {
   "cell_type": "markdown",
   "id": "4ff6fa43-b021-45ae-8c71-fa25dc727cbd",
   "metadata": {
    "tags": []
   },
   "source": [
    "<a id='h5p'></a>\n",
    "### A. Directly read HDF5 and NetCDF files"
   ]
  },
  {
   "cell_type": "markdown",
   "id": "0eb44b79-dca6-4962-ad19-53c7be31a89e",
   "metadata": {},
   "source": [
    "The **h5** module provides APIs for directly reading HDF5 and NetCDF4 files hosted by NASA in the cloud. [`h5.h5p`](https://slideruleearth.io/web/rtd/api_reference/h5.html#h5p) is the primary method used to directly read data in the cloud.  The [reference page](https://slideruleearth.io/web/rtd/api_reference/h5.html#h5p) for `h5.h5p` provides a description of each of the arguments needed to make the call and the different options available.  \n",
    "\n",
    "\n",
    "```{tip}\n",
    "Under-the-hood, the functions in the **h5** module make HTTP requests to SlideRule servers running in us-west-2, and those servers read the requested data from S3 and return the results in an HTTP response back to the client.\n",
    "```\n",
    "\n",
    "In the example below, the first 100 latitudes and longitudes are read from an ATL06 granule.  The results are returned in a dictionary of numpy arrays, where each key is the name of the dataset.  If instead of reading just the first 100 values, all the values need to be read, then \"numrows\" can be set to `h5.ALL_ROWS`. "
   ]
  },
  {
   "cell_type": "code",
   "execution_count": null,
   "id": "9a3cbd1f-c886-4405-9e65-644d0a881563",
   "metadata": {
    "tags": []
   },
   "outputs": [],
   "source": [
    "asset = \"icesat2\"\n",
    "resource=\"ATL06_20181017222812_02950102_006_02.h5\"\n",
    "datasets = [\n",
    "    # latitudes\n",
    "    {\"dataset\": \"/gt1l/land_ice_segments/latitude\", \"startrow\": 0, \"numrows\": 100},\n",
    "    {\"dataset\": \"/gt1r/land_ice_segments/latitude\", \"startrow\": 0, \"numrows\": 100},\n",
    "    {\"dataset\": \"/gt2l/land_ice_segments/latitude\", \"startrow\": 0, \"numrows\": 100},\n",
    "    {\"dataset\": \"/gt2r/land_ice_segments/latitude\", \"startrow\": 0, \"numrows\": 100},\n",
    "    {\"dataset\": \"/gt3l/land_ice_segments/latitude\", \"startrow\": 0, \"numrows\": 100},\n",
    "    {\"dataset\": \"/gt3r/land_ice_segments/latitude\", \"startrow\": 0, \"numrows\": 100},\n",
    "    # longitudes\n",
    "    {\"dataset\": \"/gt1l/land_ice_segments/longitude\", \"startrow\": 0, \"numrows\": 100},\n",
    "    {\"dataset\": \"/gt1r/land_ice_segments/longitude\", \"startrow\": 0, \"numrows\": 100},\n",
    "    {\"dataset\": \"/gt2l/land_ice_segments/longitude\", \"startrow\": 0, \"numrows\": 100},\n",
    "    {\"dataset\": \"/gt2r/land_ice_segments/longitude\", \"startrow\": 0, \"numrows\": 100},\n",
    "    {\"dataset\": \"/gt3l/land_ice_segments/longitude\", \"startrow\": 0, \"numrows\": 100},\n",
    "    {\"dataset\": \"/gt3r/land_ice_segments/longitude\", \"startrow\": 0, \"numrows\": 100}\n",
    "]\n",
    "\n",
    "atl06 = h5.h5p(datasets, resource, asset)"
   ]
  },
  {
   "cell_type": "code",
   "execution_count": null,
   "id": "61d6c873-6e22-4b63-afee-0bc0c8db8b5c",
   "metadata": {
    "tags": []
   },
   "outputs": [],
   "source": [
    "atl06"
   ]
  },
  {
   "cell_type": "markdown",
   "id": "ab671993-0fd7-4dc2-9aa4-b870b7be3abd",
   "metadata": {
    "tags": []
   },
   "source": [
    "<a id='atl03sp'></a>\n",
    "### B. Subset ATL03 photon cloud data"
   ]
  },
  {
   "cell_type": "markdown",
   "id": "d905d27c-c806-4d9a-bff4-9ffffeb3f21c",
   "metadata": {},
   "source": [
    "The [`icesat2.atl03sp`](https://slideruleearth.io/web/rtd/api_reference/icesat2.html#atl03sp) function makes an ATL03 subsetting request to SlideRule servers and returns a GeoDataFrame of photons.  Documentation for this function can be found in the [API reference](https://slideruleearth.io/web/rtd/api_reference/icesat2.html#atl03sp).\n",
    "\n",
    "In the example below, a set of resources is specified via the `poly`, `rgt`, and `cycle` parameters.  Because each granule contains so many photons, it is necessary when making this call to limit the area over which the subsetting request is made, along with the number of granules inside that area. By supplying a GeoJSON file (which is read and processed by the `sliderule.toregion` function into a format usable by SlideRule), the extent of data read in each granule is trimmed.  By supplying a reference ground track (`rgt`), and the cycle number, the number of granules is reduced - in this case to a single granule.\n",
    "\n",
    "The other parameters in the request are used to specify different aspects of the ATL03 subsetting request.  The `srt` parameters specifies the surface type, which in this case is land. The surface type is used in conjunction with the next parameter - `cnf` which is the confidence level.  A confindence level of high tells SlideRule to only include photons that are highly likely to be surface reflections off of land.  (As a different example, if the `srt` parameter specified land ice and the confidence level was low, then SlideRule would include all photons that had *at least* a low likelihood of being a reflection off of land ice). Lastly, the `len` and `res` parameters specify the length and resolution of the photon segments being returned.  In this case we are asking for 20m segments of photons every 20m.  The length and step size of the segment does not matter so much if it is only photons being returned, but when other processing parameters are supplied (like minimal along track spread of a segment), then it matters more.\n",
    "\n",
    "Lastly, the call to `icesat2.atl03sp` is made which sends the HTTP request to SlideRule's servers and then waits and accumulates the response from the servers into a GeoDataFrame, with each row representing a single photon.\n",
    "\n",
    "```{tip}\n",
    "For the request below there are only ~1K photons returned.  In the actual data, there are roughly ~300K high-confidence photons inside the Grand Mesa region in the selected granule.  The reason so few photons are returned is because the length of the segment is set to 20m and the default along-track-spread required for a valid segment is also 20m (because the default segment length is 40m).  As a result, most segments are filtered out by SlideRule as not being valid.  This happens all the time to me - I get back a lot less data than I expected because I inadvertantly changed one parameter without changing another parameter related to it.  In this case, the way to get all of the photons would be to either change the along-track-spread to 40m (\"ats\": 40), or tell SlideRule to return invalid segments (\"pass_invalid\": True).  I left it this way below because I wanted to highlight this common issue, and also because the smaller datasets is faster to load into a GeoDataFrame. \n",
    "```\n"
   ]
  },
  {
   "cell_type": "code",
   "execution_count": null,
   "id": "aa459cb0-0baf-41d9-87eb-59b27b8d809e",
   "metadata": {
    "tags": []
   },
   "outputs": [],
   "source": [
    "# Build Region of Interest\n",
    "region = sliderule.toregion('grandmesa.geojson')\n",
    "\n",
    "# Build ATL03 Subsetting Request Parameters\n",
    "parms = {\n",
    "    \"poly\": region[\"poly\"],\n",
    "    \"rgt\": 737,\n",
    "    \"cycle\": 16,\n",
    "    \"srt\": icesat2.SRT_LAND,\n",
    "    \"cnf\": icesat2.CNF_SURFACE_HIGH,\n",
    "    \"len\": 20.0,\n",
    "    \"res\": 20.0\n",
    "}\n",
    "\n",
    "# Make ATL03 Subsetting Request\n",
    "atl03 = icesat2.atl03sp(parms)"
   ]
  },
  {
   "cell_type": "code",
   "execution_count": null,
   "id": "eb78d155-3dfb-4e14-8c70-ba769ea5dcde",
   "metadata": {
    "tags": []
   },
   "outputs": [],
   "source": [
    "atl03"
   ]
  },
  {
   "cell_type": "markdown",
   "id": "f1f40ede-7da9-4812-8743-76e7fd31df19",
   "metadata": {},
   "source": [
    "<a id='atl06p'></a>\n",
    "### C. Generate custom ATL06 elevations"
   ]
  },
  {
   "cell_type": "markdown",
   "id": "6c5b0bde-d7f7-4847-b2b7-69adc86c9a8a",
   "metadata": {},
   "source": [
    "The [`icesat2.atl06p`](https://slideruleearth.io/web/rtd/api_reference/icesat2.html#atl06p) function makes an on-demand processing request to SlideRule servers to generate customized ATL06 elevations and return them in a GeoDataFrame.  Documentation for this function can be found in the [API reference](https://slideruleearth.io/web/rtd/api_reference/icesat2.html#atl06p).\n",
    "\n",
    "In the example below, a set of resources are implicitly specified via the `poly` parameter.  By only supplying a polygon defining the region of interest, SlideRule will determine which granules intersect the region and then process all them.\n",
    "\n",
    "```{tip}\n",
    "Under-the-hood the SlideRule Python client is using the supplied shapefile to make a call to NASA's CMR system to get a list of ATL03 granules that intersect the region of interest.  The list of granules is passed to the SlideRule servers along with geometry in the shapefile.  The SlideRule servers then distribute the processing of each granule across all the available servers and each is responsible for pulling out the photons insides the region of interest and calculating a set of elevations from them.\n",
    "```\n",
    "The other parameters in the request all control different aspects of the ATL03 subsetting and ATL06 algorithm running on the SlideRule servers. Note that the length of the ATL03 segment used to generate an ATL06 elevation has been customized to 20m instead of the 40m in the standard product, and the step size has been similarly customized to 10m instead of 20m.\n",
    "\n",
    "Lastly, the call to `icesat2.atl06p` makes the processing request by sending an HTTP request to SlideRule's servers and then waiting and accumulating the response from the servers into a GeoDataFrame, with each row representing an elevation calculated from a custom ATL03 segment."
   ]
  },
  {
   "cell_type": "code",
   "execution_count": null,
   "id": "ce2fad60-2a58-4e18-93c9-d21962d206f6",
   "metadata": {
    "tags": []
   },
   "outputs": [],
   "source": [
    "# Build Region of Interest\n",
    "region = sliderule.toregion('grandmesa.geojson')\n",
    "\n",
    "# Build ATL06 Request Parameters\n",
    "parms = {\n",
    "    \"poly\": region[\"poly\"],\n",
    "    \"srt\": icesat2.SRT_LAND,\n",
    "    \"cnf\": icesat2.CNF_SURFACE_HIGH,\n",
    "    \"ats\": 7.0,\n",
    "    \"cnt\": 10,\n",
    "    \"len\": 20.0,\n",
    "    \"res\": 10.0,\n",
    "}\n",
    "\n",
    "# Make ATL06 Request\n",
    "atl06 = icesat2.atl06p(parms)"
   ]
  },
  {
   "cell_type": "code",
   "execution_count": null,
   "id": "79cbe9f3-e6b3-4e52-ab81-d727f329abcd",
   "metadata": {
    "tags": []
   },
   "outputs": [],
   "source": [
    "atl06"
   ]
  },
  {
   "cell_type": "markdown",
   "id": "d943d9ae-3433-48a9-978d-3085b26ced30",
   "metadata": {},
   "source": [
    "<a id='atl08'></a>\n",
    "### D. Generate customized ATL06 elevations using ATL08 classifications"
   ]
  },
  {
   "cell_type": "markdown",
   "id": "da35fd2d-9e7f-4b4f-bbdb-0f6b654c116e",
   "metadata": {},
   "source": [
    "The [`icesat2.atl03sp`](https://slideruleearth.io/web/rtd/api_reference/icesat2.html#atl03sp) and [`icesat2.atl06p`](https://slideruleearth.io/web/rtd/api_reference/icesat2.html#atl06p) on-demand processing requests can also include the use of ATL08 data to classify and filter the photons returned and used in the ATL06 elevation calculation.  See the [icesat2 module user guide](https://slideruleearth.io/web/rtd/user_guide/ICESat-2.html#atl08-classification) for further documentation.\n",
    "\n",
    "In the example below, the request to generate custom ATL06 elevations has been modified to use the ATL08 classifier.  The first modification is to drop the minimum required ATL03 confidence level down to CNF_NOT_CONSIDERED which is the lowest confidence of a non-TEP photon.  (This effectively removes ATL03 confidence level filtering by including all non-TEP photons regardless of how the ATL03 processing labelled it).  The second modification is to include the `atl08_class` parameter and  specify `atl08_ground` in the list of labels that should be used.  This causes the ATL06 elevation to only be caclulated from photons labelled as ground by the ATL08 classification system."
   ]
  },
  {
   "cell_type": "code",
   "execution_count": null,
   "id": "09d618ae-9a9e-4336-9fdc-c3ae78199b71",
   "metadata": {
    "tags": []
   },
   "outputs": [],
   "source": [
    "# Build Region of Interest\n",
    "region = sliderule.toregion('grandmesa.geojson')\n",
    "\n",
    "# Build ATL06 Request Parameters\n",
    "parms = {\n",
    "    \"poly\": region[\"poly\"],\n",
    "    \"srt\": icesat2.SRT_LAND,\n",
    "    \"cnf\": icesat2.CNF_NOT_CONSIDERED, # effectively remove atl03 filtering\n",
    "    \"ats\": 7.0,\n",
    "    \"cnt\": 10,\n",
    "    \"len\": 20.0,\n",
    "    \"res\": 10.0,\n",
    "    \"atl08_class\": [\"atl08_ground\"] # specify ground photons only\n",
    "}\n",
    "\n",
    "# Make ATL06 Request\n",
    "atl06 = icesat2.atl06p(parms)"
   ]
  },
  {
   "cell_type": "code",
   "execution_count": null,
   "id": "a786c258-1566-4446-b794-48b6d4e908fe",
   "metadata": {
    "tags": []
   },
   "outputs": [],
   "source": [
    "atl06"
   ]
  },
  {
   "cell_type": "markdown",
   "id": "adf43450-4f05-4d4f-876c-00a606d417d8",
   "metadata": {},
   "source": [
    "<a id='phoreal'></a>\n",
    "### E. Generate customized ATL08 vegetation metrics"
   ]
  },
  {
   "cell_type": "markdown",
   "id": "47b252ab-42e5-4d05-905a-24820130410c",
   "metadata": {},
   "source": [
    "The [`icesat2.atl08p`](https://slideruleearth.io/web/rtd/api_reference/icesat2.html#atl08p) function makes an on-demand processing request to SlideRule servers to generate customized ATL08 vegetation metrics and return them in a GeoDataFrame.  Documentation for this function can be found in the [API reference](https://slideruleearth.io/web/rtd/api_reference/icesat2.html#atl08p).  \n",
    "\n",
    "In the example below, vegetation metrics are calculated for every 20m segment in the Grand Mesa region that pass the provided criteria (`ats` - along track spread, `cnt` - minimum number of photons in a segment).  The photons are classified using the ATL08 classification method, and in addition to ground photons, canopy and top of canopy photons are also included (which is necessary for the vegetation statistics).\n",
    "\n",
    "The set of parameters specific to the ATL08 processing are provided under the `phoreal` key.  The name comes from the University of Texas team that developed PhoREAL and collaborated with us to get their algorithms into SlideRule. Documentation on the different parameters related to the vegetation calculations in PhoREAL can be found in the [user guide](https://slideruleearth.io/web/rtd/user_guide/ICESat-2.html#phoreal-parameters).\n",
    "\n",
    "Lastly, the call to `icesat2.atl08p` makes the processing request by sending an HTTP request to SlideRule's servers and then waiting and accumulating the response from the servers into a GeoDataFrame, with each row representing a set of vegetation metrics for a custom 20m ATL03 segment."
   ]
  },
  {
   "cell_type": "code",
   "execution_count": null,
   "id": "c0893472-20d0-4f18-a9b3-af3cd4de3c56",
   "metadata": {
    "tags": []
   },
   "outputs": [],
   "source": [
    "# Build Region of Interest\n",
    "region = sliderule.toregion('grandmesa.geojson')\n",
    "\n",
    "# Build ATL08 Request Parameters\n",
    "parms = { \n",
    "    \"poly\": region['poly'],\n",
    "    \"cnf\": icesat2.CNF_NOT_CONSIDERED,\n",
    "    \"ats\": 5.0,\n",
    "    \"cnt\": 5,\n",
    "    \"len\": 20.0,\n",
    "    \"res\": 10.0,\n",
    "    \"atl08_class\": [\n",
    "        \"atl08_ground\", \n",
    "        \"atl08_canopy\", \n",
    "        \"atl08_top_of_canopy\"\n",
    "    ],\n",
    "    \"phoreal\": {\n",
    "        \"binsize\": 1.0, \n",
    "        \"geoloc\": \"center\", \n",
    "        \"use_abs_h\": False, \n",
    "        \"send_waveform\": False\n",
    "    }\n",
    "}\n",
    "\n",
    "# Make ATL08 Processing Request\n",
    "atl08 = icesat2.atl08p(parms)"
   ]
  },
  {
   "cell_type": "code",
   "execution_count": null,
   "id": "c4ab7a75-e12e-435c-a574-3815f36da858",
   "metadata": {
    "tags": []
   },
   "outputs": [],
   "source": [
    "atl08"
   ]
  },
  {
   "cell_type": "markdown",
   "id": "6f8c6d24-4dc4-45b6-a20e-a17125418298",
   "metadata": {},
   "source": [
    "<a id='raster'></a>\n",
    "### F. Sample rasters at points of interest"
   ]
  },
  {
   "cell_type": "markdown",
   "id": "65c8283c-6419-4831-8760-df02db7ff091",
   "metadata": {},
   "source": [
    "Many of the SlideRule processing APIs support sampling raster datasets at every point generated by the server-side processing.  For a detailed discussion of this capability see the [GeoRaster page](https://slideruleearth.io/web/rtd/user_guide/GeoRaster.html) and the [sampling parameters](https://slideruleearth.io/web/rtd/user_guide/SlideRule.html#raster-sampling) in the SlideRule documentation.\n",
    "\n",
    "In the example below, an on-demand ATL06 processing request is made along with parameters that specify that the Harmonized Landsat Sentinel-2 (HLS) raster dataset and the GEDI L4B raster dataset is to be sampled at the location of every calculated ATL06 elevation.  The results are returned in a GeoDataFrame where each row contains both an elevation and the value of the sampled HLS and GEDI L4B rasters."
   ]
  },
  {
   "cell_type": "code",
   "execution_count": null,
   "id": "20011555-d840-41e0-bbf5-615beda259b8",
   "metadata": {
    "tags": []
   },
   "outputs": [],
   "source": [
    "# Build Region of Interest\n",
    "region = sliderule.toregion('grandmesa.geojson')\n",
    "catalog = earthdata.stac(short_name=\"HLS\", polygon=region[\"poly\"], time_start=\"2022-01-01T00:00:00Z\", time_end=\"2022-03-01T00:00:00Z\", as_str=True)\n",
    "\n",
    "# Build Sampling Request Parameters\n",
    "samples = {\n",
    "    \"landsat\": {\n",
    "        \"asset\": \"landsat-hls\",\n",
    "        \"catalog\": catalog,\n",
    "        \"closest_time\": \"2022-01-05T00:00:00Z\", \n",
    "        \"bands\": [\"NDVI\"]\n",
    "    },\n",
    "    \"gedi\": {\n",
    "        \"asset\": \"gedil4b\"\n",
    "    }   \n",
    "}\n",
    "\n",
    "# Build ATL03 Subsetting Request Parameters\n",
    "parms = {\n",
    "    \"poly\": region[\"poly\"],\n",
    "    \"rgt\": 737,\n",
    "    \"cycle\": 16,\n",
    "    \"srt\": icesat2.SRT_LAND,\n",
    "    \"cnf\": icesat2.CNF_SURFACE_HIGH,\n",
    "    \"len\": 20.0,\n",
    "    \"res\": 20.0,\n",
    "    \"samples\": samples\n",
    "}\n",
    "\n",
    "# Make ATL06 with Sampling Request\n",
    "atl06 = icesat2.atl06p(parms)"
   ]
  },
  {
   "cell_type": "code",
   "execution_count": null,
   "id": "bf619e68-c0a7-4d24-9c48-2f5e33dee313",
   "metadata": {
    "tags": []
   },
   "outputs": [],
   "source": [
    "atl06"
   ]
  },
  {
   "cell_type": "markdown",
   "id": "2da22a79-e5eb-4de2-ab8e-bc2539bb9f12",
   "metadata": {
    "tags": []
   },
   "source": [
    "<a id='gedi'></a>\n",
    "### G. Subset GEDI L1B, L2A, L4A"
   ]
  },
  {
   "cell_type": "markdown",
   "id": "7b92cbd5-debe-402c-91ea-377445fdd2b1",
   "metadata": {},
   "source": [
    "The [`gedi`](https://slideruleearth.io/web/rtd/api_reference/gedi.html) module provides a handful of functions to make GEDI subsetting requests to SlideRule.  For documentation on those functions, see the [api reference](https://slideruleearth.io/web/rtd/api_reference/gedi.html).  For documentation on the general GEDI capabilities in SlideRule, see the [user guide](https://slideruleearth.io/web/rtd/user_guide/GEDI.html).\n",
    "\n",
    "In the example below, a request to subset the GEDI L2A data for the Grand Mesa region is made.  The polygon representing the region is provided in the same way it is for the _icesat2_ processing requests. The `*_flag` settings are filters specifying that data is only to be returned for footprints with those flags set that way. The `beam` parameter specifies a single beam number, a list of beam numbers, or all of the beams (`gedi.ALL_BEAMS`).\n",
    "\n",
    "The call to [`gedi.gedi02ap()`](https://slideruleearth.io/web/rtd/api_reference/gedi.html#gedi02ap) sends the HTTP request to the SlideRule servers and waits for and accumulates the response into a GeoDataFrame where each row represents a returned footprint.\n",
    "\n",
    "```{tip}\n",
    "While GEDI L3 and L4 data is all hosted in the cloud, the GEDI L1 and L2 data has not been migrated to the cloud yet and therefore the areas of interest that SlideRule can support are very limited.  To work around this, we have data for a few areas of interest staged in our own S3 bucket.  If you want to use GEDI L1 and/or L2 data for a given area of interest, please get in touch with the SlideRule team and we can work with you to have the data staged in our own bucket until the official products are migrated to the cloud.\n",
    "```"
   ]
  },
  {
   "cell_type": "code",
   "execution_count": null,
   "id": "493eae82-0f90-4b89-aaba-e7fecb2905f3",
   "metadata": {
    "tags": []
   },
   "outputs": [],
   "source": [
    "# Build Region of Interest\n",
    "region = sliderule.toregion('grandmesa.geojson')\n",
    "\n",
    "# Build GEDI L2A Request Parameters\n",
    "parms = {\n",
    "    \"poly\": region[\"poly\"],\n",
    "    \"degrade_flag\": 0,\n",
    "    \"quality_flag\": 1,\n",
    "    \"beam\": 0\n",
    "}\n",
    "\n",
    "# Make GEDI L2A Request\n",
    "gedi02a = gedi.gedi02ap(parms)"
   ]
  },
  {
   "cell_type": "code",
   "execution_count": null,
   "id": "896e6563-ca81-4c43-94d6-069bf148dfd6",
   "metadata": {
    "tags": []
   },
   "outputs": [],
   "source": [
    "gedi02a"
   ]
  },
  {
   "cell_type": "markdown",
   "id": "53ec0feb-2a51-4fe3-a719-59b7d254eb27",
   "metadata": {},
   "source": [
    "## III. Advanced Functionality\n",
    "- Private clusters\n",
    "- GeoParquet output to S3\n",
    "- Customized YAPC classification\n",
    "- Include ancillary data\n",
    "- Query CMR, CMR-STAC, and TNM\n",
    "- Directly sample supported raster datasets\n",
    "- Subset via rasterized area of interest\n",
    "- Kmeans clustering"
   ]
  },
  {
   "cell_type": "code",
   "execution_count": null,
   "id": "c3758c5f-0904-461a-ac80-f4a38f3bccd7",
   "metadata": {},
   "outputs": [],
   "source": []
  }
 ],
 "metadata": {
  "kernelspec": {
   "display_name": "Python 3 (ipykernel)",
   "language": "python",
   "name": "python3"
  },
  "language_info": {
   "codemirror_mode": {
    "name": "ipython",
    "version": 3
   },
   "file_extension": ".py",
   "mimetype": "text/x-python",
   "name": "python",
   "nbconvert_exporter": "python",
   "pygments_lexer": "ipython3",
   "version": "3.10.12"
  }
 },
 "nbformat": 4,
 "nbformat_minor": 5
}
