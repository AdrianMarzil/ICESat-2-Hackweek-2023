{
 "cells": [
  {
   "cell_type": "markdown",
   "id": "413d2929-b96e-412c-8697-c761397a14f3",
   "metadata": {},
   "source": [
    "# `icepyx`"
   ]
  },
  {
   "cell_type": "code",
   "execution_count": null,
   "id": "5b054a98-68bc-4e52-8e9b-48c71e67bd8b",
   "metadata": {},
   "outputs": [],
   "source": [
    "https://icepyx.readthedocs.io/en/latest/example_notebooks/IS2_cloud_data_access.html"
   ]
  }
 ],
 "metadata": {
  "kernelspec": {
   "display_name": "Python 3 (ipykernel)",
   "language": "python",
   "name": "python3"
  },
  "language_info": {
   "codemirror_mode": {
    "name": "ipython",
    "version": 3
   },
   "file_extension": ".py",
   "mimetype": "text/x-python",
   "name": "python",
   "nbconvert_exporter": "python",
   "pygments_lexer": "ipython3",
   "version": "3.10.11"
  }
 },
 "nbformat": 4,
 "nbformat_minor": 5
}
