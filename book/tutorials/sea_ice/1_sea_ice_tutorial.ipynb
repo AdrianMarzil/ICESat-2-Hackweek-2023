{
 "cells": [
  {
   "cell_type": "markdown",
   "metadata": {
    "tags": [],
    "user_expressions": []
   },
   "source": [
    "# ICESat-2 sea ice tutorial\n",
    "\n",
    "\n",
    "## \t&#x2B50; Objectives\n",
    "- Learn how to access/download ICESat-2 sea ice products (ATL07/ATL10/ATL20) via `icepyx` or `earthaccess` libraries.\n",
    "- Examine what the ICESat-2 sea ice freeboard products (ATL10/ATL20) look like.\n",
    "- Derive sea ice properties (sea ice thickness, floe size distribution, lead fraction) using ATL10 product.\n",
    "- Map monthly sea ice freeboard using ATL20 product."
   ]
  },
  {
   "cell_type": "markdown",
   "metadata": {
    "tags": [],
    "user_expressions": []
   },
   "source": [
    "## &#x1F4CC; What is sea ice?\n",
    "<img src=\"https://upload.wikimedia.org/wikipedia/commons/thumb/d/d8/Sea_ice_Drawing_General_features.svg/1920px-Sea_ice_Drawing_General_features.svg.png\" alt=\"Sea ice\" width = \"600px\">\n",
    "\n",
    "Sea ice is frozen seawater that floats on the ocean surface. It forms in both the Arctic and the Antarctic in each hemisphere’s winter; it retreats in the summer, but does not completely disappear. Sea ice is not just a \"flat\" surface. Sea ice surface is very dynamic, so sea ice surface consists of various topograhic features, such as ridges (occur when sea ice floes collide) or leads (open water or thin ice space between sea ice floes). The fine resolution of ICESat-2 allows us to detect the details of these sea ice dynamic features."
   ]
  },
  {
   "cell_type": "markdown",
   "metadata": {
    "tags": [],
    "user_expressions": []
   },
   "source": [
    "## &#x1F4CC; How can laser altimeters measure sea ice freeboard/thickness?\n",
    "<img src=\"https://www.mdpi.com/remotesensing/remotesensing-14-01069/article_deploy/html/images/remotesensing-14-01069-g004-550.jpg\" alt=\"ICESat-2 data products\" width=\"400px\">\n",
    "\n",
    "Sea ice freeboard means the height of sea ice surface above **local sea surface**. To calculate sea ice freeboard, it is necessary to subtract local sea surface height from the sea ice height.\n",
    "\n",
    "$H_{f} = H_{obs} - H_{ssh}$\n",
    "\n",
    "The **ATL07** product provides the surface height above the reference ellipsoid (WGS84). The ATL07 product aggregates 150 signal photons as a single \"height segment\", and the mean height of this segment is determined as the surface height. In general, each height segment has 10-20 m of length (strong beams).\n",
    "\n",
    "Then, in order to calculate sea ice freeboard, it is necessary to separate the height signal from **open water (lead)** and **sea ice surface**. The ATL07 product has its own algorithm to distinguish leads from sea ice.\n",
    "\n",
    "The **ATL10** product calculates the height difference between sea ice surface and lead surface. The local sea level ($H_{ssh}$) is calculated for every 10 km using detected leads."
   ]
  },
  {
   "cell_type": "markdown",
   "metadata": {},
   "source": [
    "## &#x1F4CC; ICESat-2 sea ice products\n",
    "- <b> ATL07 </b> (sea ice surface heights): Surface height relative to WGS84 ellipsoid. Derived by aggregating 150 signal photons of the ATL03 product. \n",
    "- <b> ATL10 </b> (freeboard): Sea ice freeboard calculated from ATL07 product.\n",
    "- <b> ATL20 </b> (daily/monthly gridded sea ice freeboard): 25-km gridded mean freeboard in daily/monthly scale.\n",
    "\n",
    "<img src=\"https://nsidc.org/sites/default/files/images/Data/ICESat2_DataProducts_2023.png\" alt=\"ICESat-2 data products\" width=\"600px\">"
   ]
  },
  {
   "cell_type": "markdown",
   "metadata": {
    "tags": [],
    "user_expressions": []
   },
   "source": [
    "## &#x2705; Access & Download sea ice products (1) - Use icepyx\n",
    "\n",
    "In this tutorial, first, we will use `icepyx` library to access and download ICESat-2 datasets."
   ]
  },
  {
   "cell_type": "code",
   "execution_count": null,
   "metadata": {
    "tags": []
   },
   "outputs": [],
   "source": [
    "import icepyx as ipx"
   ]
  },
  {
   "cell_type": "markdown",
   "metadata": {
    "user_expressions": []
   },
   "source": [
    "After importing `icepyx` library, we will create an query to request ICESat-2 data for our region/time of interest."
   ]
  },
  {
   "cell_type": "code",
   "execution_count": null,
   "metadata": {
    "tags": []
   },
   "outputs": [],
   "source": [
    "# Data product: ATL10 (sea ice freeboard)\n",
    "short_name = 'ATL10'\n",
    "\n",
    "# Spatial extent: Ross Sea, Antarctica\n",
    "spatial_extent = [-180, -78, -160, -74]\n",
    "\n",
    "# Time ragne\n",
    "date_range = ['2019-09-16','2019-09-16'] # first time period\n",
    "# date_range = ['2019-11-13','2019-11-13'] # second time period"
   ]
  },
  {
   "cell_type": "code",
   "execution_count": null,
   "metadata": {
    "tags": []
   },
   "outputs": [],
   "source": [
    "reg=ipx.Query(short_name, spatial_extent, date_range,\n",
    "              start_time = \"12:00:00\", endtime = \"20:00:00\")"
   ]
  },
  {
   "cell_type": "code",
   "execution_count": null,
   "metadata": {
    "tags": []
   },
   "outputs": [],
   "source": [
    "# Visualize the spatial extent\n",
    "reg.visualize_spatial_extent()"
   ]
  },
  {
   "cell_type": "code",
   "execution_count": null,
   "metadata": {
    "tags": []
   },
   "outputs": [],
   "source": [
    "# Check the granule ids\n",
    "gran_ids = reg.avail_granules(ids=True)\n",
    "gran_ids"
   ]
  },
  {
   "cell_type": "code",
   "execution_count": null,
   "metadata": {
    "tags": []
   },
   "outputs": [],
   "source": [
    "print(reg.latest_version())\n",
    "reg.product_summary_info()"
   ]
  },
  {
   "cell_type": "code",
   "execution_count": null,
   "metadata": {
    "tags": []
   },
   "outputs": [],
   "source": [
    "# Earthdata login information: Please put your own account information\n",
    "reg.earthdata_login()"
   ]
  },
  {
   "cell_type": "code",
   "execution_count": null,
   "metadata": {
    "tags": []
   },
   "outputs": [],
   "source": [
    "# Order granules\n",
    "reg.order_granules()"
   ]
  },
  {
   "cell_type": "code",
   "execution_count": null,
   "metadata": {
    "tags": []
   },
   "outputs": [],
   "source": [
    "# Download granules\n",
    "path = \"\" # you can put your own directory where you want to download the files.\n",
    "reg.download_granules(path)"
   ]
  },
  {
   "cell_type": "markdown",
   "metadata": {
    "tags": [],
    "user_expressions": []
   },
   "source": [
    "## &#x2705; Access & Download sea ice products (2) - Use Earthaccess\n",
    "\n",
    "Using icepyx, you can download ICESat-2 data for the date and region you are interested in. There is another way to access ICESat-2 data using another Python library `Earthaccess`. In the following Earthaccess example, you can access the raw ICESat-2 data remotely without downloading them to your local machine."
   ]
  },
  {
   "cell_type": "code",
   "execution_count": null,
   "metadata": {
    "tags": []
   },
   "outputs": [],
   "source": [
    "# For searching NASA data\n",
    "import earthaccess"
   ]
  },
  {
   "cell_type": "code",
   "execution_count": null,
   "metadata": {
    "tags": []
   },
   "outputs": [],
   "source": [
    "auth = earthaccess.login()"
   ]
  },
  {
   "cell_type": "code",
   "execution_count": null,
   "metadata": {
    "tags": []
   },
   "outputs": [],
   "source": [
    "Query = earthaccess.collection_query().keyword('ICESat-2')"
   ]
  },
  {
   "cell_type": "code",
   "execution_count": null,
   "metadata": {
    "tags": []
   },
   "outputs": [],
   "source": [
    "Query.hits()"
   ]
  },
  {
   "cell_type": "code",
   "execution_count": null,
   "metadata": {
    "tags": []
   },
   "outputs": [],
   "source": [
    "Query = earthaccess.collection_query().keyword('ATL10').cloud_hosted(True)\n",
    "print(Query.hits())\n",
    "collections = Query.fields(['ShortName', 'Version']).get(25)\n",
    "print(collections)"
   ]
  },
  {
   "cell_type": "code",
   "execution_count": null,
   "metadata": {
    "tags": []
   },
   "outputs": [],
   "source": [
    "Query = earthaccess.granule_query().concept_id(\n",
    "    'C2153574813-NSIDC_CPRD'\n",
    ").temporal(\"2019-11-13 T10:00:00\", \"2019-11-13 T20:00:00\"\n",
    ").bounding_box(-180, -77, -160, -74)\n",
    "\n",
    "# Bounding box: [West lon, South lat, East lon, North lat]\n",
    "# ATL07: C2153574585-NSIDC_CPRD\n",
    "# ATL10: C2153574813-NSIDC_CPRD\n",
    "# ATL20: C2153577387-NSIDC_CPRD"
   ]
  },
  {
   "cell_type": "code",
   "execution_count": null,
   "metadata": {
    "tags": []
   },
   "outputs": [],
   "source": [
    "Query.hits()"
   ]
  },
  {
   "cell_type": "code",
   "execution_count": null,
   "metadata": {
    "tags": []
   },
   "outputs": [],
   "source": [
    "granules = Query.get(2)\n",
    "[display(g) for g in granules];"
   ]
  },
  {
   "cell_type": "code",
   "execution_count": null,
   "metadata": {},
   "outputs": [],
   "source": [
    "files = earthaccess.open(granules)\n",
    "files"
   ]
  },
  {
   "cell_type": "markdown",
   "metadata": {},
   "source": [
    "## &#x2705; Explore ATL10 sea ice freeboard product (single track)\n",
    "\n",
    "Now, we will explore what the ATL10 sea ice freeboard data really looks like. Let's start with the two example tracks you downloaded from the previous parts."
   ]
  },
  {
   "cell_type": "markdown",
   "metadata": {},
   "source": [
    "### Import necessary libraries"
   ]
  },
  {
   "cell_type": "code",
   "execution_count": null,
   "metadata": {
    "tags": []
   },
   "outputs": [],
   "source": [
    "import h5py\n",
    "import pyproj\n",
    "\n",
    "# Ignore warning\n",
    "import warnings\n",
    "warnings.filterwarnings(\"ignore\")\n",
    "\n",
    "import cartopy.crs as ccrs\n",
    "\n",
    "%matplotlib widget\n",
    "import matplotlib.pyplot as plt\n",
    "\n",
    "import numpy as np\n",
    "import pandas as pd"
   ]
  },
  {
   "cell_type": "markdown",
   "metadata": {},
   "source": [
    "### Read first track"
   ]
  },
  {
   "cell_type": "code",
   "execution_count": null,
   "metadata": {
    "tags": []
   },
   "outputs": [],
   "source": [
    "with h5py.File(filename,'r') as f:\n",
    "    orient = f['orbit_info/sc_orient'][0]\n",
    "    \n",
    "orient"
   ]
  },
  {
   "cell_type": "code",
   "execution_count": null,
   "metadata": {
    "tags": []
   },
   "outputs": [],
   "source": [
    "# H5 file of the ATL10 track\n",
    "filename = \"processed_ATL10-02_20191113181045_07310501_005_02.h5\"\n",
    "\n",
    "# Create a list for saving ATL10 beam track data\n",
    "track = []\n",
    "\n",
    "with h5py.File(filename,'r') as f:\n",
    "    \n",
    "    # Check the orbit orientation\n",
    "    orient = f['orbit_info/sc_orient'][0]\n",
    "    \n",
    "    if orient == 0:\n",
    "        strong_beams = [f\"gt{i}l\" for i in [1, 2, 3]]\n",
    "    elif orient == 1:\n",
    "        strong_beams = [f\"gt{i}l\" for i in [1, 2, 3]]\n",
    "    else:\n",
    "        strong_beams = []\n",
    "\n",
    "    for beam in strong_beams:\n",
    "        \n",
    "        lat = f[beam]['freeboard_beam_segment/beam_freeboard/latitude'][:]\n",
    "        lon = f[beam]['freeboard_beam_segment/beam_freeboard/longitude'][:]\n",
    "        seg_x = f[beam]['freeboard_beam_segment/beam_freeboard/seg_dist_x'][:] / 1000 # (m to km)\n",
    "        seg_len = f[beam]['freeboard_beam_segment/height_segments/height_segment_length_seg'][:]\n",
    "        fb = f[beam]['freeboard_beam_segment/beam_freeboard/beam_fb_height'][:]\n",
    "        surface_type = f[beam]['freeboard_beam_segment/height_segments/height_segment_type'][:]\n",
    "        fb[fb>100] = np.nan\n",
    "        \n",
    "        df = pd.DataFrame({'lat': lat, 'lon': lon, 'seg_x': seg_x, 'seg_len': seg_len,\n",
    "                          'freeboard': fb, 'stype': surface_type})\n",
    "        df['beam'] = beam\n",
    "        df = df.dropna().reset_index(drop = True)\n",
    "        \n",
    "        track.append(df)"
   ]
  },
  {
   "cell_type": "markdown",
   "metadata": {
    "user_expressions": []
   },
   "source": [
    "#### &#x1F50D; Which beam is strong/weak?\n",
    "\n",
    "The relative location of strong and beak beams depends on the orientation of the satellite orbit. If the satellite moves in forward direction, right beams (i.e., GT1R, GT2R, GT3R) are STRONG beams. On the contrary, in the case of backward direction, left beams (i.e., GT1L, GT2L, GT3L) are WEAK beams.\n",
    "\n",
    "<img src=\"https://agupubs.onlinelibrary.wiley.com/cms/asset/9e074a72-2eb9-4457-b6ad-5c57d5334ee5/jgrc23628-fig-0001-m.jpg\" alt=\"Forward Backward\" width=\"600px\">\n"
   ]
  },
  {
   "cell_type": "code",
   "execution_count": null,
   "metadata": {
    "tags": []
   },
   "outputs": [],
   "source": [
    "# Check the orbit orientation\n",
    "with h5py.File(filename,'r') as f:\n",
    "    orient = f['orbit_info/sc_orient'][0]\n",
    "\n",
    "# 0: backward; 1: forward; 2: transition (do not use)\n",
    "print(orient)"
   ]
  },
  {
   "cell_type": "markdown",
   "metadata": {},
   "source": [
    "### Draw freeboard histograms"
   ]
  },
  {
   "cell_type": "code",
   "execution_count": null,
   "metadata": {
    "tags": []
   },
   "outputs": [],
   "source": [
    "plt.figure(figsize = (8, 4))\n",
    "for df in track:\n",
    "    \n",
    "    plt.hist(df['freeboard'], bins = 100, range = (0,2), label = df.beam[0], histtype = 'step')\n",
    "    print(f\"Beam {df.beam[0]}\")\n",
    "    print(f\"   - mean freeboard: {df.freeboard.mean():.3f} m\")\n",
    "    print(f\"   - std. dev. freeboard: {df.freeboard.std():.3f} m\")\n",
    "    \n",
    "plt.xticks(np.arange(0,2,0.1))\n",
    "plt.xlim(0,2)\n",
    "plt.grid(ls = \":\", lw = 0.5)\n",
    "plt.legend()\n",
    "plt.xlabel(\"Freeboard (m)\")\n",
    "plt.ylabel(\"Count\")\n",
    "plt.show()"
   ]
  },
  {
   "cell_type": "markdown",
   "metadata": {},
   "source": [
    "### Draw freeboard track"
   ]
  },
  {
   "cell_type": "code",
   "execution_count": null,
   "metadata": {
    "tags": []
   },
   "outputs": [],
   "source": [
    "# Select which beam you want to explore (0, 1, 2)\n",
    "df = track[0]\n",
    "\n",
    "plt.figure(figsize = (8, 3))\n",
    "\n",
    "# Masking for normal sea ice\n",
    "mask_ice = (df.stype == 1)\n",
    "\n",
    "# Masking for specular lead\n",
    "mask_specular = (df.stype >= 2) & (df.stype <= 5)\n",
    "\n",
    "# Masking for dark lead\n",
    "mask_dark = (df.stype >= 6) & (df.stype <= 9)\n",
    "\n",
    "plt.scatter(df.seg_x[mask_ice], df.freeboard[mask_ice], s = 2, color = \"c\", label = \"Non-lead\")\n",
    "plt.scatter(df.seg_x[mask_specular], df.freeboard[mask_specular], s = 5, color = \"r\", label = \"Specular lead\")\n",
    "plt.scatter(df.seg_x[mask_dark], df.freeboard[mask_dark], s = 5, color = \"k\", label = \"Dark lead\")\n",
    "plt.axhline(0.15, color = \"b\", ls = \"--\")\n",
    "plt.xlabel(\"Along-track distance (km)\")\n",
    "plt.ylabel(\"Freeboard (m)\")\n",
    "plt.legend()\n",
    "\n",
    "# plt.xlim(32890, 32920)\n",
    "plt.show()"
   ]
  },
  {
   "cell_type": "code",
   "execution_count": null,
   "metadata": {
    "tags": []
   },
   "outputs": [],
   "source": [
    "## Calculate lead fraction\n",
    "print(\"Sea ice (%): \", np.sum(df.seg_len[mask_ice]) / np.sum(df.seg_len) * 100)\n",
    "print(\"Specular lead (%): \", np.sum(df.seg_len[mask_specular]) / np.sum(df.seg_len) * 100)\n",
    "print(\"Dark lead (%): \", np.sum(df.seg_len[mask_dark]) / np.sum(df.seg_len) * 100)\n",
    "print(\"Freeboard < 0.15 m (%): \", np.sum(df.seg_len[df.freeboard < 0.15]) / np.sum(df.seg_len) * 100)"
   ]
  },
  {
   "cell_type": "markdown",
   "metadata": {
    "tags": [],
    "user_expressions": []
   },
   "source": [
    "## &#x1F4A1; Do it yourself!\n",
    "Let's try the same steps for another track data for the Ross Sea Sea region. The first track we just examined is from September, but this second track is from November. Compare how the freeboard and lead fraction has been changed for these two months."
   ]
  },
  {
   "cell_type": "code",
   "execution_count": null,
   "metadata": {},
   "outputs": [],
   "source": [
    "filename = \"processed_ATL10-02_20191113181045_07310501_005_02.h5\""
   ]
  },
  {
   "cell_type": "code",
   "execution_count": null,
   "metadata": {},
   "outputs": [],
   "source": [
    "# Plot lead fraction, floe size distribution, mean freeboard, etc."
   ]
  },
  {
   "cell_type": "code",
   "execution_count": null,
   "metadata": {},
   "outputs": [],
   "source": []
  },
  {
   "cell_type": "code",
   "execution_count": null,
   "metadata": {},
   "outputs": [],
   "source": []
  },
  {
   "cell_type": "markdown",
   "metadata": {},
   "source": [
    "## &#x2705; Explore sea ice freeboard products (gridded product)\n",
    "\n",
    "Now we will explore gridded sea ice freeboard product (ATL20)."
   ]
  },
  {
   "cell_type": "markdown",
   "metadata": {},
   "source": [
    "### Antarctic example\n",
    "\n",
    "We will visualize the Antractic sea ice in September 2021. In general, the Antarctic sea ice extent reaches maximum in September, so you will be able to see the maximum sea ice extent."
   ]
  },
  {
   "cell_type": "code",
   "execution_count": null,
   "metadata": {
    "tags": []
   },
   "outputs": [],
   "source": [
    "# Query Antarctic ATL20 data using earthaccess (September)\n",
    "Query = earthaccess.granule_query().concept_id(\n",
    "    'C2153577387-NSIDC_CPRD'\n",
    ").temporal(\"2021-09-02\", \"2021-09-30\"\n",
    ").bounding_box(-180, -90, 180, -60)\n",
    "\n",
    "granules = Query.get()\n",
    "granules"
   ]
  },
  {
   "cell_type": "code",
   "execution_count": null,
   "metadata": {
    "tags": []
   },
   "outputs": [],
   "source": [
    "# Open file\n",
    "files = earthaccess.open(granules)\n",
    "files[0]"
   ]
  },
  {
   "cell_type": "code",
   "execution_count": null,
   "metadata": {
    "tags": []
   },
   "outputs": [],
   "source": [
    "# Read h5 file\n",
    "with h5py.File(files[0],'r') as f:\n",
    "    mean_fb = f['monthly']['mean_fb'][:]\n",
    "    mean_fb[mean_fb > 1000] = np.nan\n",
    "    \n",
    "    # ATL20 is 25 km grid data\n",
    "    lat = f['grid_lat'][:] # Latitude\n",
    "    lon = f['grid_lon'][:] # Longitude\n",
    "    \n",
    "    # Spatial reference: NSIDC Sea Ice Polar Stereographic South (EPSG:3412)\n",
    "    x = f['grid_x'][:]\n",
    "    y = f['grid_y'][:]\n",
    "    xx, yy = np.meshgrid(x, y)"
   ]
  },
  {
   "cell_type": "code",
   "execution_count": null,
   "metadata": {
    "tags": []
   },
   "outputs": [],
   "source": [
    "fig=plt.figure(figsize=(6, 6))\n",
    "\n",
    "# Use the in-built northpolarstereo to visualize (true scale latitude is from NSIDC polar stereographic)\n",
    "ax = plt.axes(projection = ccrs.SouthPolarStereo(central_longitude=0, true_scale_latitude = -70))\n",
    "\n",
    "pm  = ax.pcolormesh(xx ,yy, mean_fb, vmin = 0, vmax = 0.8)\n",
    "ax.coastlines('10m', linewidth = 0.5) # add coastline\n",
    "# Add gridline\n",
    "gl = ax.gridlines(crs=ccrs.PlateCarree(), draw_labels=True,\n",
    "                  linewidth=1, color='lightgrey', alpha=0.5, linestyle='--')\n",
    "\n",
    "clb = plt.colorbar(pm, ax = ax, shrink = 0.4)\n",
    "clb.set_label('Sea ice freeboard (m)', rotation = 270, fontsize = 11, va = 'bottom')"
   ]
  },
  {
   "cell_type": "markdown",
   "metadata": {},
   "source": [
    "### Arctic example\n",
    "\n",
    "For the Arctic, we will visualize sea ice freeboard map in March 2021."
   ]
  },
  {
   "cell_type": "code",
   "execution_count": null,
   "metadata": {
    "tags": []
   },
   "outputs": [],
   "source": [
    "Query = earthaccess.granule_query().concept_id(\n",
    "    'C2153577387-NSIDC_CPRD'\n",
    ").temporal(\"2021-03-02\", \"2021-03-30\"\n",
    ").bounding_box(-180, 60, 180, 90)\n",
    "\n",
    "granules = Query.get()\n",
    "\n",
    "files = earthaccess.open(granules)\n",
    "\n",
    "with h5py.File(files[0],'r') as f:\n",
    "    mean_fb = f['monthly']['mean_fb'][:]\n",
    "    mean_fb[mean_fb > 1000] = np.nan\n",
    "\n",
    "    lat = f['grid_lat'][:]\n",
    "    lon = f['grid_lon'][:]\n",
    "    \n",
    "    # Spatial reference: NSIDC Sea Ice Polar Stereographic North (EPSG:3411)\n",
    "    x = f['grid_x'][:]\n",
    "    y = f['grid_y'][:]\n",
    "    xx, yy = np.meshgrid(x, y)"
   ]
  },
  {
   "cell_type": "code",
   "execution_count": null,
   "metadata": {
    "tags": []
   },
   "outputs": [],
   "source": [
    "fig=plt.figure(figsize=(6, 6))\n",
    "# Use the in-built northpolarstereo to visualize (true scale latitude is from NSIDC polar stereographic)\n",
    "ax = plt.axes(projection = ccrs.NorthPolarStereo(central_longitude=-45, true_scale_latitude = 70))\n",
    "\n",
    "pm  = ax.pcolormesh(xx ,yy, mean_fb, vmin = 0, vmax = 0.8)\n",
    "ax.coastlines('10m', linewidth = 0.5)\n",
    "\n",
    "gl = ax.gridlines(crs=ccrs.PlateCarree(), draw_labels=True,\n",
    "                  linewidth=1, color='lightgrey', alpha=0.5, linestyle='--')\n",
    "clb = plt.colorbar(pm, ax = ax, shrink = 0.4)\n",
    "clb.set_label('Sea ice freeboard (m)', rotation = 270, fontsize = 11, va = 'bottom')"
   ]
  },
  {
   "cell_type": "markdown",
   "metadata": {},
   "source": [
    "## &#x1F4A1; Do it yourself!\n",
    "Let's visualize the griddged freeboard for another month. "
   ]
  },
  {
   "cell_type": "code",
   "execution_count": null,
   "metadata": {},
   "outputs": [],
   "source": []
  },
  {
   "cell_type": "code",
   "execution_count": null,
   "metadata": {},
   "outputs": [],
   "source": []
  },
  {
   "cell_type": "markdown",
   "metadata": {
    "jp-MarkdownHeadingCollapsed": true,
    "tags": []
   },
   "source": [
    "#### Credited by Younghyun Koo (kooala317@gmail.com)"
   ]
  }
 ],
 "metadata": {
  "kernelspec": {
   "display_name": "Python 3 (ipykernel)",
   "language": "python",
   "name": "python3"
  },
  "language_info": {
   "codemirror_mode": {
    "name": "ipython",
    "version": 3
   },
   "file_extension": ".py",
   "mimetype": "text/x-python",
   "name": "python",
   "nbconvert_exporter": "python",
   "pygments_lexer": "ipython3",
   "version": "3.10.11"
  }
 },
 "nbformat": 4,
 "nbformat_minor": 4
}
