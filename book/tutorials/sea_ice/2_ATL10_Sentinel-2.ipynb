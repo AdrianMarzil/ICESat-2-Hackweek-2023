{
 "cells": [
  {
   "cell_type": "markdown",
   "id": "e32f5e06",
   "metadata": {
    "tags": [],
    "user_expressions": []
   },
   "source": [
    "# [OPTIONAL]\n",
    "# Compare ATL10 freeboard product with Sentinel-2 optical images\n",
    "\n",
    "## \t&#x2B50; Objectives\n",
    "- Query optical images in Google Earth Engine and download images overlapped with ICESat-2 track \n",
    "- Compare sea ice features from optical images and ICESat-2 ATL10 product"
   ]
  },
  {
   "cell_type": "markdown",
   "id": "70c41bfd",
   "metadata": {
    "user_expressions": []
   },
   "source": [
    "## &#x2705; Setting computing environment\n",
    "\n",
    "We'll be using the following Python libraries in this notebook:"
   ]
  },
  {
   "cell_type": "code",
   "execution_count": null,
   "id": "c40e7f35-cec4-4041-bd7d-ede4628d0f11",
   "metadata": {
    "tags": []
   },
   "outputs": [],
   "source": [
    "!pip install earthengine-api"
   ]
  },
  {
   "cell_type": "code",
   "execution_count": null,
   "id": "63f8fd16-2d57-4b08-9b1a-9917d846e5f3",
   "metadata": {
    "tags": []
   },
   "outputs": [],
   "source": [
    "!pip install geedim"
   ]
  },
  {
   "cell_type": "code",
   "execution_count": null,
   "id": "1416ceff-a534-455a-b6e5-8fd9a2a4f0a9",
   "metadata": {
    "tags": []
   },
   "outputs": [],
   "source": [
    "!pip install geemap"
   ]
  },
  {
   "cell_type": "code",
   "execution_count": null,
   "id": "b620e261",
   "metadata": {
    "tags": []
   },
   "outputs": [],
   "source": [
    "import glob, os\n",
    "import requests\n",
    "import numpy as np\n",
    "\n",
    "from datetime import datetime\n",
    "from datetime import timedelta\n",
    "\n",
    "import h5py\n",
    "import pandas as pd\n",
    "\n",
    "import os\n",
    "\n",
    "import warnings\n",
    "warnings.filterwarnings('ignore')\n",
    "\n",
    "import geopandas\n",
    "import rasterio\n",
    "\n",
    "import ee\n",
    "import geemap\n",
    "\n",
    "%matplotlib widget\n",
    "import matplotlib.pyplot as plt"
   ]
  },
  {
   "cell_type": "markdown",
   "id": "af6cf554",
   "metadata": {
    "tags": [],
    "user_expressions": []
   },
   "source": [
    "## &#x2705; Google Earth Engine Authentication and Initialization\n",
    "Before you start Google Earth Engine (`ee` library), you need to authenticate your access with your own Google account. This authentication can be done by running `ee.Authenticate()`. Please go to the link and allow the access, and you will be able to get an verification code. Please copy and paste this verification code into the input field and hit enter."
   ]
  },
  {
   "cell_type": "code",
   "execution_count": null,
   "id": "35c40816",
   "metadata": {
    "tags": []
   },
   "outputs": [],
   "source": [
    "try:\n",
    "    ee.Initialize()\n",
    "except: \n",
    "    ee.Authenticate()\n",
    "    ee.Initialize()"
   ]
  },
  {
   "cell_type": "markdown",
   "id": "ca78dd06",
   "metadata": {
    "user_expressions": []
   },
   "source": [
    "## &#x2705; Query Sentinel-2 images via Google Earth Engine using ATL10 track"
   ]
  },
  {
   "cell_type": "code",
   "execution_count": null,
   "id": "3c8d0678-bdae-41cc-9729-31945c1006cb",
   "metadata": {
    "tags": []
   },
   "outputs": [],
   "source": [
    "# Read ATL10 track\n",
    "filename = \"processed_ATL10-02_20191113181045_07310501_005_02.h5\"\n",
    "\n",
    "with h5py.File(filename, 'r') as f:\n",
    "    beam = 'gt2r'\n",
    "    track = pd.DataFrame(data={'lat': f[beam]['freeboard_beam_segment']['beam_freeboard']['latitude'][:],\n",
    "                               'lon': f[beam]['freeboard_beam_segment']['beam_freeboard']['longitude'][:],\n",
    "                               'seg_x': f[beam]['freeboard_beam_segment']['beam_freeboard']['seg_dist_x'][:],\n",
    "                               'freeboard': f[beam]['freeboard_beam_segment']['beam_freeboard']['beam_fb_height'][:],\n",
    "                               'type': f[beam]['freeboard_beam_segment']['height_segments']['height_segment_type'][:]\n",
    "                              })\n",
    "\n",
    "# Create Earth Engine feature collection with the ATL10 track\n",
    "track_coord = list(zip([x for x in track.lon[::100]], [x for x in track.lat[::100]])) \n",
    "feature_track = ee.FeatureCollection(ee.Geometry.LineString(coords=track_coord, proj='EPSG:4326', geodesic=True)) \n",
    "\n",
    "# Define region of interest (ROI) using the ICESat-2 track feature collection\n",
    "roi = feature_track.geometry()"
   ]
  },
  {
   "cell_type": "code",
   "execution_count": null,
   "id": "d2cc1565-000a-42f6-b9de-668e41b9cb5c",
   "metadata": {
    "tags": []
   },
   "outputs": [],
   "source": [
    "# Read acquisition time of the ATL10 track from filename\n",
    "time_atl = datetime.strptime(filename[19:33], \"%Y%m%d%H%M%S\")"
   ]
  },
  {
   "cell_type": "code",
   "execution_count": null,
   "id": "7f9af87e-1b52-44ab-9f2b-14c832d8ec6c",
   "metadata": {
    "tags": []
   },
   "outputs": [],
   "source": [
    "# Start date (should be the ICESat-2 acquisition date)\n",
    "t1 = datetime.strptime(filename[19:27], \"%Y%m%d\").strftime(\"%Y-%m-%d\")\n",
    "\n",
    "# End date (1 day after the ICESat-2 acquistion date)\n",
    "t2 = (datetime.strptime(t1, \"%Y-%m-%d\") + timedelta(days=1)).strftime(\"%Y-%m-%d\")"
   ]
  },
  {
   "cell_type": "code",
   "execution_count": null,
   "id": "30e84d74-97cf-4e82-b825-c8757edffcb4",
   "metadata": {
    "tags": []
   },
   "outputs": [],
   "source": [
    "# Query Sentinel-2 images using ATL10 file information\n",
    "S2 = ee.ImageCollection(\"COPERNICUS/S2_SR\").filterBounds(roi)\\\n",
    ".filterDate(t1, t2)\\\n",
    ".filter(ee.Filter.lt('CLOUD_COVERAGE_ASSESSMENT', 20))\\\n",
    ".filter(ee.Filter.lt('NODATA_PIXEL_PERCENTAGE', 10))"
   ]
  },
  {
   "cell_type": "code",
   "execution_count": null,
   "id": "44459080-9d79-4f84-a75a-1135e5a93cb9",
   "metadata": {
    "tags": []
   },
   "outputs": [],
   "source": [
    "num = S2.size().getInfo() # Number of available images\n",
    "print(num)"
   ]
  },
  {
   "cell_type": "code",
   "execution_count": null,
   "id": "19327354-454a-4965-be4f-0eaad2b91628",
   "metadata": {
    "tags": []
   },
   "outputs": [],
   "source": [
    "# Image ID for all images\n",
    "ids = [S2.toList(num).getInfo()[i]['id'] for i in range(0, num)] \n",
    "ids"
   ]
  },
  {
   "cell_type": "code",
   "execution_count": null,
   "id": "2f2244ef",
   "metadata": {
    "tags": []
   },
   "outputs": [],
   "source": [
    "time_diff = 3600*3 # Time difference < 2 hours\n",
    "\n",
    "Map = geemap.Map()\n",
    "\n",
    "for i in range(0, num):\n",
    "    time_start = S2.toList(num).getInfo()[i]['properties']['system:time_start']\n",
    "    time_s2 = datetime(1970, 1, 1) + timedelta(seconds = time_start/1000)   \n",
    "    \n",
    "    img_name = os.path.basename(ids[i])\n",
    "\n",
    "    # Time difference between IS2 and S2 < defined time_diff\n",
    "    if abs(time_atl-time_s2).seconds <= time_diff:\n",
    "        img = ee.Image(ids[i]).select('B4')\n",
    "        dim = img.getInfo()['bands'][0]['dimensions']\n",
    "        if dim[0] > 10000 and dim[1] > 0:\n",
    "            geemap.download_ee_image(img, f\"S2_{img_name}.tif\", scale=50)\n",
    "            Map.addLayer(img, {'min': 0, 'max': 10000}, img_name)\n",
    "        else:\n",
    "            print(f\"SKIP {img_name}: Not a full image\")\n",
    "    else:\n",
    "        print(f\"SKIP {img_name}: Time difference > {time_diff/3600} hours with ICESat-2 track\")\n",
    "\n",
    "Map.centerObject(feature_track, zoom = 7)\n",
    "Map.addLayer(feature_track, {}, \"IS2 track\")\n",
    "Map"
   ]
  },
  {
   "cell_type": "code",
   "execution_count": null,
   "id": "0936d50b-c8f7-45d4-b453-a0e8b634313b",
   "metadata": {},
   "outputs": [],
   "source": []
  },
  {
   "cell_type": "markdown",
   "id": "365d4fc8-f0c8-4c56-9593-b3f311ffc62f",
   "metadata": {
    "user_expressions": []
   },
   "source": [
    "## &#x2705; Comparison between ICESat-2 and Sentinel-2\n",
    "\n",
    "Now we will compare the Sentinel-2 optical image we downloaded with the ICESat-2 ATL10 track."
   ]
  },
  {
   "cell_type": "code",
   "execution_count": null,
   "id": "1071b763-fbc4-4b1f-a997-68b0b9accb3c",
   "metadata": {
    "tags": []
   },
   "outputs": [],
   "source": [
    "# Read downloaded Sentinel-2 image\n",
    "img_name = \"S2_20191113T183459_20191113T183501_T03CVQ.tif\""
   ]
  },
  {
   "cell_type": "code",
   "execution_count": null,
   "id": "546ff4f1-112f-46de-977c-65a0a26f61a9",
   "metadata": {
    "tags": []
   },
   "outputs": [],
   "source": [
    "img = rasterio.open(img_name)\n",
    "array = img.read(1)\n",
    "array[array < 0] = 0\n",
    "\n",
    "height = array.shape[0]\n",
    "width = array.shape[1]\n",
    "cols, rows = np.meshgrid(np.arange(width), np.arange(height))\n",
    "xs, ys = rasterio.transform.xy(img.transform, rows, cols)\n",
    "xs = np.array(xs)\n",
    "ys = np.array(ys)\n",
    "\n",
    "img.close()"
   ]
  },
  {
   "cell_type": "code",
   "execution_count": null,
   "id": "f56c10a1-43d8-4bae-943e-9cf695795be8",
   "metadata": {
    "tags": []
   },
   "outputs": [],
   "source": [
    "plt.figure(figsize = (8, 7))\n",
    "plt.imshow(array, cmap = \"Blues_r\", vmin = 0, vmax = 10000)\n",
    "plt.colorbar(shrink = 0.5)"
   ]
  },
  {
   "cell_type": "markdown",
   "id": "d09a8c65-2560-441f-b5eb-228e3dc2c79b",
   "metadata": {
    "user_expressions": []
   },
   "source": [
    "Let's take a look at the ATL10 track data. We read the ATL10 h5 file as `pandas` dataframe. In order to assign the geographic coordinate information, we will convert this dataframe into `geopandas` geodataframe."
   ]
  },
  {
   "cell_type": "code",
   "execution_count": null,
   "id": "ff60e8a2-81a7-43b5-a09e-d8558686caac",
   "metadata": {
    "tags": []
   },
   "outputs": [],
   "source": [
    "track"
   ]
  },
  {
   "cell_type": "code",
   "execution_count": null,
   "id": "cab56cd5-dcb0-485b-b399-14032bdd5cec",
   "metadata": {
    "tags": []
   },
   "outputs": [],
   "source": [
    "# Convert pandas dataframe into geopandas geodataframe\n",
    "gdf = geopandas.GeoDataFrame(track, geometry=geopandas.points_from_xy(track.lon, track.lat))\n",
    "\n",
    "# Assign crs information into geodatafraem\n",
    "gdf.crs = \"+proj=longlat +ellps=WGS84 +datum=WGS84 +no_defs\"\n",
    "\n",
    "# Convert crs of the geodataframe into the crs of the Sentinel-2 image\n",
    "gdf = gdf.to_crs(img.crs)"
   ]
  },
  {
   "cell_type": "code",
   "execution_count": null,
   "id": "588d1e60-682c-4d99-93e9-428b4cce28be",
   "metadata": {
    "tags": []
   },
   "outputs": [],
   "source": [
    "gdf"
   ]
  },
  {
   "cell_type": "code",
   "execution_count": null,
   "id": "a2c65da4-7819-4bce-8436-3241af82d671",
   "metadata": {
    "tags": []
   },
   "outputs": [],
   "source": [
    "# Save coordinate information as independent columns (x, y)\n",
    "gdf['x'] = gdf.geometry.apply(lambda x: x.x)\n",
    "gdf['y'] = gdf.geometry.apply(lambda x: x.y)\n",
    "\n",
    "# Boundary of the image\n",
    "x_min = xs.min()\n",
    "x_max = xs.max()\n",
    "y_min = ys.min()\n",
    "y_max = ys.max()\n",
    "\n",
    "# Clip geodataframe fitting to the image extent\n",
    "gdf = gdf[(gdf[\"x\"]>=x_min) & (gdf[\"x\"]<=x_max) & (gdf[\"y\"]>=y_min) & (gdf[\"y\"]<=y_max)].reset_index(drop=True)\n",
    "\n",
    "idx = img.index(gdf[\"x\"], gdf[\"y\"])\n",
    "gdf[\"pix_x\"] = idx[1]\n",
    "gdf[\"pix_y\"] = idx[0]"
   ]
  },
  {
   "cell_type": "code",
   "execution_count": null,
   "id": "4fec4ff3-7242-4cdb-bf32-1765c3da208e",
   "metadata": {
    "tags": []
   },
   "outputs": [],
   "source": [
    "gdf"
   ]
  },
  {
   "cell_type": "markdown",
   "id": "d53c6603-3641-45c7-9312-158b726e28c4",
   "metadata": {
    "user_expressions": []
   },
   "source": [
    "Draw overlapped optical image and ATL10 surface types."
   ]
  },
  {
   "cell_type": "code",
   "execution_count": null,
   "id": "8bde1abb-26ac-442d-9388-6777ba17d9e1",
   "metadata": {
    "tags": []
   },
   "outputs": [],
   "source": [
    "plt.figure(figsize = (8,7))\n",
    "plt.pcolormesh(xs, ys, array, vmin = 0, vmax = 10000, cmap = \"Blues_r\")\n",
    "plt.colorbar(shrink = 0.5)\n",
    "plt.scatter(gdf['x'], gdf['y'], c = gdf['type'], s = 5, vmin = 0, vmax = 2, cmap = \"jet\")"
   ]
  },
  {
   "cell_type": "markdown",
   "id": "dfa1e27e-2e20-4f9d-a474-ce9ea3ba0cb5",
   "metadata": {
    "user_expressions": []
   },
   "source": [
    "Draw optical image and ATL10 freeboard."
   ]
  },
  {
   "cell_type": "code",
   "execution_count": null,
   "id": "558f8fc6-c375-469a-95d8-96a0a8b904cb",
   "metadata": {
    "tags": []
   },
   "outputs": [],
   "source": [
    "plt.figure(figsize = (8,7))\n",
    "plt.pcolormesh(xs, ys, array, vmin = 0, vmax = 10000, cmap = \"Blues_r\")\n",
    "plt.colorbar(shrink = 0.5)\n",
    "plt.scatter(gdf['x'], gdf['y'], c = gdf['freeboard'], s = 5, vmin = 0, vmax = 1, cmap = \"jet\")"
   ]
  },
  {
   "cell_type": "markdown",
   "id": "d459742c-37a2-4597-8bb3-48d72424e6d5",
   "metadata": {
    "user_expressions": []
   },
   "source": [
    "## &#x2705; Floe statistics from ICESat-2 and Sentinel-2\n",
    "\n",
    "Based on the overlapped Sentinel-2 optical image, we will calculate floe statistics. Since the optical image can be a good reference of lead detection, we compare the lead frequency and floe size distribution from the ATL10 data and Sentinel-2 optical image."
   ]
  },
  {
   "cell_type": "markdown",
   "id": "78b56edd-7587-45c2-9cdc-113e9512cd70",
   "metadata": {
    "user_expressions": []
   },
   "source": [
    "First, let's do a simple lead detection with the Sentinel-2 brigtness value. The dark area should be lead, and the white area should be sea ice floes."
   ]
  },
  {
   "cell_type": "code",
   "execution_count": null,
   "id": "9a6fe608-3c4e-45e4-b2fb-8ef64b3f0967",
   "metadata": {
    "tags": []
   },
   "outputs": [],
   "source": [
    "# Histogram of pixel value\n",
    "plt.figure(figsize = (6,3))\n",
    "plt.hist(array.flatten(), range = (0, 12000), bins = 400)\n",
    "plt.grid(ls = \":\", lw = 1);"
   ]
  },
  {
   "cell_type": "markdown",
   "id": "4753916b-b592-4d50-8f1a-c2f472d123eb",
   "metadata": {
    "user_expressions": []
   },
   "source": [
    "Based on this histogram, which value is appropriate to separate sea ice floes and leads?"
   ]
  },
  {
   "cell_type": "code",
   "execution_count": null,
   "id": "64f3d9e0-1a8b-4c3b-af3c-9c691b935b55",
   "metadata": {
    "tags": []
   },
   "outputs": [],
   "source": [
    "# Threshold value to separate sea ice floes and leads\n",
    "th = 9000"
   ]
  },
  {
   "cell_type": "code",
   "execution_count": null,
   "id": "11743650-4858-4fde-9142-344401f9a684",
   "metadata": {
    "tags": []
   },
   "outputs": [],
   "source": [
    "# Lead classification (0: lead, 1: sea ice floe)\n",
    "classified = np.zeros(np.shape(array))\n",
    "classified[array >= th] = 1\n",
    "\n",
    "# Draw the lead classification image\n",
    "plt.figure(figsize = (7,6))\n",
    "plt.pcolormesh(xs, ys, classified, cmap = \"gray\")\n",
    "plt.colorbar(shrink = 0.5)\n",
    "plt.show()"
   ]
  },
  {
   "cell_type": "code",
   "execution_count": null,
   "id": "8df53e0c-c18b-41c9-a830-8d6f7c34c065",
   "metadata": {},
   "outputs": [],
   "source": [
    "# Resample the raster value to the ICESat-2 track geodataframe\n",
    "idx = img.index(gdf[\"x\"], gdf[\"y\"])\n",
    "gdf[\"b4\"] = array[idx[0], idx[1]]\n",
    "gdf[\"lead_S2\"] = classified[idx[0], idx[1]]"
   ]
  },
  {
   "cell_type": "markdown",
   "id": "fb042a15-9aa9-43e2-a140-8a6f76bd40c9",
   "metadata": {
    "user_expressions": []
   },
   "source": [
    "Now we will calculate the floe size statistics."
   ]
  },
  {
   "cell_type": "code",
   "execution_count": null,
   "id": "75bfb41c-e174-49af-98d8-6b59520da0e2",
   "metadata": {
    "tags": []
   },
   "outputs": [],
   "source": [
    "# Function to calculate sea ice floe length\n",
    "def get_floe_length(freeboard, lead_mask, seg_dist):\n",
    "    # INPUT:\n",
    "    # freeboard: along-track freeboard measurement of ICESat-2 ATL10 track\n",
    "    # lead_mask: along-track lead detection result (0: lead; 1: non-lead)\n",
    "    # seg_dist: along-track distance of ICESat-2 ATL10 track (unit: meters)\n",
    "    \n",
    "    floe_length = np.array([]) # Floe length (unit: m)\n",
    "    lead_length = np.array([]) # Floe length (unit: m)\n",
    "    floe_fb = np.array([]) # np.zeros(len(ice_leads_msk)) # Making big enough array\n",
    "    \n",
    "    # Floe starting index\n",
    "    ice_cnt_st = 0\n",
    "    # Floe ending index\n",
    "    ice_cnt_en = 0\n",
    "    \n",
    "    # Lead starting index\n",
    "    lead_cnt_st = 0\n",
    "    # Lead ending index\n",
    "    lead_cnt_en = 0\n",
    "    \n",
    "    for i in range(1,len(freeboard)):\n",
    "        if (lead_mask[i] == 1) and (lead_mask[i-1] == 0): # start floe & stop lead\n",
    "            # Initialize floe\n",
    "            ice_cnt_st = i\n",
    "            ice_cnt_en = i\n",
    "            \n",
    "            # Complete lead\n",
    "            lead_length = np.append(lead_length, abs(seg_dist[lead_cnt_en] - seg_dist[lead_cnt_st]))\n",
    "                                    \n",
    "        elif (lead_mask[i] == 1) and (lead_mask[i-1] == 1): # grow floe\n",
    "            ice_cnt_en += 1\n",
    "            \n",
    "        elif (lead_mask[i] == 0) and (lead_mask[i-1] == 0): # grow lead\n",
    "            lead_cnt_en += 1\n",
    "            \n",
    "        elif (lead_mask[i] == 0) and (lead_mask[i-1] == 1): # stop floe & start lead\n",
    "            # Complete floe\n",
    "            floe_length = np.append(floe_length, abs(seg_dist[ice_cnt_en] - seg_dist[ice_cnt_st]))\n",
    "            floe_fb = np.append(floe_fb, np.mean(freeboard[ice_cnt_st:ice_cnt_en+1]))\n",
    "            \n",
    "            # Initialize lead\n",
    "            lead_cnt_st = i\n",
    "            lead_cnt_en = i\n",
    "        \n",
    "            \n",
    "    # Removing spurious floes (< 50m, > 10 km, fb < 0.1)\n",
    "    remove_idx = np.where((floe_length < 50) | (floe_length > 10000) | (floe_fb < 0.1))[0]  \n",
    "    floe_fb = np.delete(floe_fb, remove_idx)\n",
    "    floe_length = np.delete(floe_length,remove_idx)\n",
    "    \n",
    "    remove_idx = np.where(lead_length < 10)[0]\n",
    "    lead_length = np.delete(lead_length,remove_idx)\n",
    "\n",
    "    return floe_length, floe_fb, lead_length\n"
   ]
  },
  {
   "cell_type": "code",
   "execution_count": null,
   "id": "85c8013d-03c3-491c-924b-09fdbf08a10c",
   "metadata": {
    "tags": []
   },
   "outputs": [],
   "source": [
    "# Freeboard lead mask (lead if freeboard < 0.15 m)\n",
    "lead_mask = (gdf.freeboard >= 0.15).values # Lead should be 0\n",
    "floe_length1, floe_fb1, lead_length1 = get_floe_length(gdf.freeboard, lead_mask, gdf.seg_x)"
   ]
  },
  {
   "cell_type": "code",
   "execution_count": null,
   "id": "cebf7cd8-6e12-44db-bdca-c96737fe0361",
   "metadata": {
    "tags": []
   },
   "outputs": [],
   "source": [
    "# Overlapped Sentinel-2 lead mask (lead if pixel value < threshold)\n",
    "lead_mask = gdf.lead_S2.values # Lead should be 0\n",
    "floe_length2, floe_fb2, lead_length2 = get_floe_length(gdf.freeboard, lead_mask, gdf.seg_x)"
   ]
  },
  {
   "cell_type": "code",
   "execution_count": null,
   "id": "3dcf5d67-69ee-453c-aea0-caf790821ca7",
   "metadata": {
    "tags": []
   },
   "outputs": [],
   "source": [
    "# FLoe length distribution\n",
    "\n",
    "plt.figure(figsize = (5,4))\n",
    "\n",
    "# Histogram on log scale. \n",
    "# Use non-equal bin sizes, such that they look equal on log scale.\n",
    "logbins = np.logspace(np.log10(50),np.log10(10000), 20)\n",
    "plt.hist(floe_length1, bins=logbins, density = True, histtype = \"step\", label = \"ATL10\")\n",
    "plt.hist(floe_length2, bins=logbins, density = True, histtype = \"step\", label = \"S2\")\n",
    "plt.xscale('log')\n",
    "plt.yscale('log')\n",
    "plt.xlabel(\"Floe length (m)\")\n",
    "plt.ylabel(\"Probability\")\n",
    "plt.title(\"Floe size distribution\")\n",
    "plt.legend()\n",
    "plt.show()\n"
   ]
  },
  {
   "cell_type": "code",
   "execution_count": null,
   "id": "dadd6711-c975-4347-8c11-4c4c813348a7",
   "metadata": {
    "tags": []
   },
   "outputs": [],
   "source": [
    "# Lead length distribution\n",
    "\n",
    "plt.figure(figsize = (5,4))\n",
    "\n",
    "# Histogram on log scale. \n",
    "# Use non-equal bin sizes, such that they look equal on log scale.\n",
    "logbins = np.logspace(np.log10(50), np.log10(10000), 20)\n",
    "plt.hist(lead_length1, bins=logbins, density = True, histtype = \"step\", label = \"ATL10\")\n",
    "plt.hist(lead_length2, bins=logbins, density = True, histtype = \"step\", label = \"S2\")\n",
    "plt.xscale('log')\n",
    "plt.yscale('log')\n",
    "plt.xlabel(\"Lead length (m)\")\n",
    "plt.ylabel(\"Probability\")\n",
    "plt.title(\"Lead length distribution\")\n",
    "plt.legend()\n",
    "plt.show()"
   ]
  },
  {
   "cell_type": "markdown",
   "id": "f3062316-e007-4521-8599-68e1463ab6ed",
   "metadata": {
    "jp-MarkdownHeadingCollapsed": true,
    "tags": []
   },
   "source": [
    "#### Credited by Younghyun Koo (kooala317@gmail.com)"
   ]
  }
 ],
 "metadata": {
  "kernelspec": {
   "display_name": "Python 3 (ipykernel)",
   "language": "python",
   "name": "python3"
  },
  "language_info": {
   "codemirror_mode": {
    "name": "ipython",
    "version": 3
   },
   "file_extension": ".py",
   "mimetype": "text/x-python",
   "name": "python",
   "nbconvert_exporter": "python",
   "pygments_lexer": "ipython3",
   "version": "3.10.11"
  }
 },
 "nbformat": 4,
 "nbformat_minor": 5
}
